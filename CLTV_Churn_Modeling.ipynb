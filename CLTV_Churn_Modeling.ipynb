{
 "cells": [
  {
   "cell_type": "markdown",
   "metadata": {},
   "source": [
    "# Churn Modeling"
   ]
  },
  {
   "cell_type": "markdown",
   "metadata": {},
   "source": [
    "## Importing packages"
   ]
  },
  {
   "cell_type": "code",
   "execution_count": 1,
   "metadata": {},
   "outputs": [],
   "source": [
    "import numpy as np\n",
    "import pandas as pd\n",
    "import sklearn as sk\n",
    "import matplotlib.pyplot as plt\n",
    "\n",
    "from sklearn.model_selection import train_test_split\n",
    "from sklearn.ensemble import (RandomForestRegressor, ExtraTreesRegressor, GradientBoostingRegressor,\n",
    "RandomForestClassifier, ExtraTreesClassifier, GradientBoostingClassifier, AdaBoostClassifier)\n",
    "from sklearn import linear_model\n",
    "from sklearn.metrics import mean_squared_error\n",
    "from sklearn import metrics\n",
    "\n",
    "from sklearn.feature_selection import SelectFromModel\n",
    "\n",
    "import statsmodels.api as sm\n",
    "\n",
    "pd.set_option('display.max_rows', 500)\n",
    "pd.set_option('display.max_columns', 50)\n",
    "pd.set_option('display.width', 1000)\n",
    "pd.set_option('display.precision', 2)"
   ]
  },
  {
   "cell_type": "markdown",
   "metadata": {},
   "source": [
    "## import modeling data created in the Data Prep pipeline"
   ]
  },
  {
   "cell_type": "code",
   "execution_count": 2,
   "metadata": {},
   "outputs": [],
   "source": [
    "import os\n",
    "os.chdir(\"D:\\Sunny_Personal\\OSU MSBA\\Fall 2019\\BAN5561_CLV\")\n",
    "combined_df = pd.read_csv('combined_data.csv')"
   ]
  },
  {
   "cell_type": "markdown",
   "metadata": {},
   "source": [
    "## Using the head method to preview our data:"
   ]
  },
  {
   "cell_type": "code",
   "execution_count": 3,
   "metadata": {},
   "outputs": [
    {
     "data": {
      "text/html": [
       "<div>\n",
       "<style scoped>\n",
       "    .dataframe tbody tr th:only-of-type {\n",
       "        vertical-align: middle;\n",
       "    }\n",
       "\n",
       "    .dataframe tbody tr th {\n",
       "        vertical-align: top;\n",
       "    }\n",
       "\n",
       "    .dataframe thead th {\n",
       "        text-align: right;\n",
       "    }\n",
       "</style>\n",
       "<table border=\"1\" class=\"dataframe\">\n",
       "  <thead>\n",
       "    <tr style=\"text-align: right;\">\n",
       "      <th></th>\n",
       "      <th>ST</th>\n",
       "      <th>Zip</th>\n",
       "      <th>DMA</th>\n",
       "      <th>Area_Cd</th>\n",
       "      <th>emailable</th>\n",
       "      <th>solicit_ph_ind</th>\n",
       "      <th>solicit_email_ind</th>\n",
       "      <th>fixd_incm_flg</th>\n",
       "      <th>scheduled_purchase_flg</th>\n",
       "      <th>months_since_last_trans</th>\n",
       "      <th>months_since_first_trans</th>\n",
       "      <th>purch_avg_interval</th>\n",
       "      <th>mail_cnt_36mo</th>\n",
       "      <th>call_in_mo_36mo</th>\n",
       "      <th>call_out_mo_36mo</th>\n",
       "      <th>tier</th>\n",
       "      <th>tier_prev</th>\n",
       "      <th>acct_ID</th>\n",
       "      <th>activation_date</th>\n",
       "      <th>event_date</th>\n",
       "      <th>churn_year_plus1_ind</th>\n",
       "      <th>log_order_cnt_36mo</th>\n",
       "      <th>log_purch_amt_36mo</th>\n",
       "      <th>log_purch_amt_life</th>\n",
       "      <th>log_purch_avg_36mo</th>\n",
       "      <th>...</th>\n",
       "      <th>ST_RI</th>\n",
       "      <th>ST_SC</th>\n",
       "      <th>ST_SD</th>\n",
       "      <th>ST_TN</th>\n",
       "      <th>ST_TX</th>\n",
       "      <th>ST_UT</th>\n",
       "      <th>ST_VA</th>\n",
       "      <th>ST_VI</th>\n",
       "      <th>ST_VT</th>\n",
       "      <th>ST_WA</th>\n",
       "      <th>ST_WI</th>\n",
       "      <th>ST_WV</th>\n",
       "      <th>ST_WY</th>\n",
       "      <th>ST_missing</th>\n",
       "      <th>tier_1-Bronze</th>\n",
       "      <th>tier_2-Silver</th>\n",
       "      <th>tier_3-Gold</th>\n",
       "      <th>tier_4-Platinum</th>\n",
       "      <th>tier_5-Diamond</th>\n",
       "      <th>tier_prev_1-Bronze</th>\n",
       "      <th>tier_prev_2-Silver</th>\n",
       "      <th>tier_prev_3-Gold</th>\n",
       "      <th>tier_prev_4-Platinum</th>\n",
       "      <th>tier_prev_5-Diamond</th>\n",
       "      <th>tier_prev_xxx</th>\n",
       "    </tr>\n",
       "  </thead>\n",
       "  <tbody>\n",
       "    <tr>\n",
       "      <td>0</td>\n",
       "      <td>VA</td>\n",
       "      <td>23464</td>\n",
       "      <td>544</td>\n",
       "      <td>missing</td>\n",
       "      <td>0</td>\n",
       "      <td>0</td>\n",
       "      <td>1</td>\n",
       "      <td>0</td>\n",
       "      <td>0</td>\n",
       "      <td>2</td>\n",
       "      <td>128</td>\n",
       "      <td>2.93</td>\n",
       "      <td>4</td>\n",
       "      <td>0</td>\n",
       "      <td>0</td>\n",
       "      <td>3-Gold</td>\n",
       "      <td>xxx</td>\n",
       "      <td>B102465045</td>\n",
       "      <td>04JAN04</td>\n",
       "      <td>30JUN15</td>\n",
       "      <td>1</td>\n",
       "      <td>0.30</td>\n",
       "      <td>4.16</td>\n",
       "      <td>4.42</td>\n",
       "      <td>2.54</td>\n",
       "      <td>...</td>\n",
       "      <td>0</td>\n",
       "      <td>0</td>\n",
       "      <td>0</td>\n",
       "      <td>0</td>\n",
       "      <td>0</td>\n",
       "      <td>0</td>\n",
       "      <td>1</td>\n",
       "      <td>0</td>\n",
       "      <td>0</td>\n",
       "      <td>0</td>\n",
       "      <td>0</td>\n",
       "      <td>0</td>\n",
       "      <td>0</td>\n",
       "      <td>0</td>\n",
       "      <td>0</td>\n",
       "      <td>0</td>\n",
       "      <td>1</td>\n",
       "      <td>0</td>\n",
       "      <td>0</td>\n",
       "      <td>0</td>\n",
       "      <td>0</td>\n",
       "      <td>0</td>\n",
       "      <td>0</td>\n",
       "      <td>0</td>\n",
       "      <td>1</td>\n",
       "    </tr>\n",
       "    <tr>\n",
       "      <td>1</td>\n",
       "      <td>NC</td>\n",
       "      <td>27542</td>\n",
       "      <td>560</td>\n",
       "      <td>919</td>\n",
       "      <td>1</td>\n",
       "      <td>1</td>\n",
       "      <td>1</td>\n",
       "      <td>0</td>\n",
       "      <td>0</td>\n",
       "      <td>4</td>\n",
       "      <td>122</td>\n",
       "      <td>2.11</td>\n",
       "      <td>22</td>\n",
       "      <td>4</td>\n",
       "      <td>0</td>\n",
       "      <td>5-Diamond</td>\n",
       "      <td>3-Gold</td>\n",
       "      <td>B106897643</td>\n",
       "      <td>04JUL04</td>\n",
       "      <td>NaN</td>\n",
       "      <td>0</td>\n",
       "      <td>0.95</td>\n",
       "      <td>3.50</td>\n",
       "      <td>4.09</td>\n",
       "      <td>2.14</td>\n",
       "      <td>...</td>\n",
       "      <td>0</td>\n",
       "      <td>0</td>\n",
       "      <td>0</td>\n",
       "      <td>0</td>\n",
       "      <td>0</td>\n",
       "      <td>0</td>\n",
       "      <td>0</td>\n",
       "      <td>0</td>\n",
       "      <td>0</td>\n",
       "      <td>0</td>\n",
       "      <td>0</td>\n",
       "      <td>0</td>\n",
       "      <td>0</td>\n",
       "      <td>0</td>\n",
       "      <td>0</td>\n",
       "      <td>0</td>\n",
       "      <td>0</td>\n",
       "      <td>0</td>\n",
       "      <td>1</td>\n",
       "      <td>0</td>\n",
       "      <td>0</td>\n",
       "      <td>1</td>\n",
       "      <td>0</td>\n",
       "      <td>0</td>\n",
       "      <td>0</td>\n",
       "    </tr>\n",
       "    <tr>\n",
       "      <td>2</td>\n",
       "      <td>NV</td>\n",
       "      <td>89109</td>\n",
       "      <td>839</td>\n",
       "      <td>702</td>\n",
       "      <td>0</td>\n",
       "      <td>0</td>\n",
       "      <td>1</td>\n",
       "      <td>0</td>\n",
       "      <td>0</td>\n",
       "      <td>8</td>\n",
       "      <td>96</td>\n",
       "      <td>88.00</td>\n",
       "      <td>1</td>\n",
       "      <td>0</td>\n",
       "      <td>0</td>\n",
       "      <td>1-Bronze</td>\n",
       "      <td>xxx</td>\n",
       "      <td>B111832829</td>\n",
       "      <td>03SEP06</td>\n",
       "      <td>NaN</td>\n",
       "      <td>0</td>\n",
       "      <td>0.30</td>\n",
       "      <td>2.48</td>\n",
       "      <td>3.03</td>\n",
       "      <td>2.48</td>\n",
       "      <td>...</td>\n",
       "      <td>0</td>\n",
       "      <td>0</td>\n",
       "      <td>0</td>\n",
       "      <td>0</td>\n",
       "      <td>0</td>\n",
       "      <td>0</td>\n",
       "      <td>0</td>\n",
       "      <td>0</td>\n",
       "      <td>0</td>\n",
       "      <td>0</td>\n",
       "      <td>0</td>\n",
       "      <td>0</td>\n",
       "      <td>0</td>\n",
       "      <td>0</td>\n",
       "      <td>1</td>\n",
       "      <td>0</td>\n",
       "      <td>0</td>\n",
       "      <td>0</td>\n",
       "      <td>0</td>\n",
       "      <td>0</td>\n",
       "      <td>0</td>\n",
       "      <td>0</td>\n",
       "      <td>0</td>\n",
       "      <td>0</td>\n",
       "      <td>1</td>\n",
       "    </tr>\n",
       "    <tr>\n",
       "      <td>3</td>\n",
       "      <td>OH</td>\n",
       "      <td>43050</td>\n",
       "      <td>535</td>\n",
       "      <td>614</td>\n",
       "      <td>0</td>\n",
       "      <td>1</td>\n",
       "      <td>1</td>\n",
       "      <td>0</td>\n",
       "      <td>0</td>\n",
       "      <td>1</td>\n",
       "      <td>108</td>\n",
       "      <td>1.02</td>\n",
       "      <td>36</td>\n",
       "      <td>0</td>\n",
       "      <td>0</td>\n",
       "      <td>1-Bronze</td>\n",
       "      <td>xxx</td>\n",
       "      <td>B112883062</td>\n",
       "      <td>03SEP05</td>\n",
       "      <td>NaN</td>\n",
       "      <td>0</td>\n",
       "      <td>0.85</td>\n",
       "      <td>2.85</td>\n",
       "      <td>3.33</td>\n",
       "      <td>1.32</td>\n",
       "      <td>...</td>\n",
       "      <td>0</td>\n",
       "      <td>0</td>\n",
       "      <td>0</td>\n",
       "      <td>0</td>\n",
       "      <td>0</td>\n",
       "      <td>0</td>\n",
       "      <td>0</td>\n",
       "      <td>0</td>\n",
       "      <td>0</td>\n",
       "      <td>0</td>\n",
       "      <td>0</td>\n",
       "      <td>0</td>\n",
       "      <td>0</td>\n",
       "      <td>0</td>\n",
       "      <td>1</td>\n",
       "      <td>0</td>\n",
       "      <td>0</td>\n",
       "      <td>0</td>\n",
       "      <td>0</td>\n",
       "      <td>0</td>\n",
       "      <td>0</td>\n",
       "      <td>0</td>\n",
       "      <td>0</td>\n",
       "      <td>0</td>\n",
       "      <td>1</td>\n",
       "    </tr>\n",
       "    <tr>\n",
       "      <td>4</td>\n",
       "      <td>HI</td>\n",
       "      <td>96789</td>\n",
       "      <td>744</td>\n",
       "      <td>808</td>\n",
       "      <td>1</td>\n",
       "      <td>1</td>\n",
       "      <td>1</td>\n",
       "      <td>0</td>\n",
       "      <td>0</td>\n",
       "      <td>4</td>\n",
       "      <td>105</td>\n",
       "      <td>1.53</td>\n",
       "      <td>19</td>\n",
       "      <td>4</td>\n",
       "      <td>0</td>\n",
       "      <td>4-Platinum</td>\n",
       "      <td>3-Gold</td>\n",
       "      <td>B113581008</td>\n",
       "      <td>03DEC05</td>\n",
       "      <td>NaN</td>\n",
       "      <td>0</td>\n",
       "      <td>0.85</td>\n",
       "      <td>3.93</td>\n",
       "      <td>4.30</td>\n",
       "      <td>2.65</td>\n",
       "      <td>...</td>\n",
       "      <td>0</td>\n",
       "      <td>0</td>\n",
       "      <td>0</td>\n",
       "      <td>0</td>\n",
       "      <td>0</td>\n",
       "      <td>0</td>\n",
       "      <td>0</td>\n",
       "      <td>0</td>\n",
       "      <td>0</td>\n",
       "      <td>0</td>\n",
       "      <td>0</td>\n",
       "      <td>0</td>\n",
       "      <td>0</td>\n",
       "      <td>0</td>\n",
       "      <td>0</td>\n",
       "      <td>0</td>\n",
       "      <td>0</td>\n",
       "      <td>1</td>\n",
       "      <td>0</td>\n",
       "      <td>0</td>\n",
       "      <td>0</td>\n",
       "      <td>1</td>\n",
       "      <td>0</td>\n",
       "      <td>0</td>\n",
       "      <td>0</td>\n",
       "    </tr>\n",
       "  </tbody>\n",
       "</table>\n",
       "<p>5 rows × 111 columns</p>\n",
       "</div>"
      ],
      "text/plain": [
       "   ST    Zip  DMA  Area_Cd  emailable  solicit_ph_ind  solicit_email_ind  fixd_incm_flg  scheduled_purchase_flg  months_since_last_trans  months_since_first_trans  purch_avg_interval  mail_cnt_36mo  call_in_mo_36mo  call_out_mo_36mo        tier tier_prev     acct_ID activation_date event_date  churn_year_plus1_ind  log_order_cnt_36mo  log_purch_amt_36mo  log_purch_amt_life  log_purch_avg_36mo  ...  ST_RI  ST_SC  ST_SD  ST_TN  ST_TX  ST_UT  ST_VA  ST_VI  ST_VT  ST_WA  ST_WI  ST_WV  ST_WY  ST_missing  tier_1-Bronze  tier_2-Silver  tier_3-Gold  tier_4-Platinum  tier_5-Diamond  tier_prev_1-Bronze  tier_prev_2-Silver  tier_prev_3-Gold  tier_prev_4-Platinum  tier_prev_5-Diamond  tier_prev_xxx\n",
       "0  VA  23464  544  missing          0               0                  1              0                       0                        2                       128                2.93              4                0                 0      3-Gold       xxx  B102465045         04JAN04    30JUN15                     1                0.30                4.16                4.42                2.54  ...      0      0      0      0      0      0      1      0      0      0      0      0      0           0              0              0            1                0               0                   0                   0                 0                     0                    0              1\n",
       "1  NC  27542  560      919          1               1                  1              0                       0                        4                       122                2.11             22                4                 0   5-Diamond    3-Gold  B106897643         04JUL04        NaN                     0                0.95                3.50                4.09                2.14  ...      0      0      0      0      0      0      0      0      0      0      0      0      0           0              0              0            0                0               1                   0                   0                 1                     0                    0              0\n",
       "2  NV  89109  839      702          0               0                  1              0                       0                        8                        96               88.00              1                0                 0    1-Bronze       xxx  B111832829         03SEP06        NaN                     0                0.30                2.48                3.03                2.48  ...      0      0      0      0      0      0      0      0      0      0      0      0      0           0              1              0            0                0               0                   0                   0                 0                     0                    0              1\n",
       "3  OH  43050  535      614          0               1                  1              0                       0                        1                       108                1.02             36                0                 0    1-Bronze       xxx  B112883062         03SEP05        NaN                     0                0.85                2.85                3.33                1.32  ...      0      0      0      0      0      0      0      0      0      0      0      0      0           0              1              0            0                0               0                   0                   0                 0                     0                    0              1\n",
       "4  HI  96789  744      808          1               1                  1              0                       0                        4                       105                1.53             19                4                 0  4-Platinum    3-Gold  B113581008         03DEC05        NaN                     0                0.85                3.93                4.30                2.65  ...      0      0      0      0      0      0      0      0      0      0      0      0      0           0              0              0            0                1               0                   0                   0                 1                     0                    0              0\n",
       "\n",
       "[5 rows x 111 columns]"
      ]
     },
     "execution_count": 3,
     "metadata": {},
     "output_type": "execute_result"
    }
   ],
   "source": [
    "combined_df.head()"
   ]
  },
  {
   "cell_type": "markdown",
   "metadata": {},
   "source": [
    "## Exploratory Data Analysis:\n",
    "    \n",
    "       1. Analyzing average values of numeric variables, by the levels of the target variable\n",
    "       2. Descriptive Statistics\n"
   ]
  },
  {
   "cell_type": "code",
   "execution_count": 13,
   "metadata": {},
   "outputs": [
    {
     "name": "stdout",
     "output_type": "stream",
     "text": [
      "###########################################\n",
      "          averages by churn ind            \n",
      "##########################################\n",
      "\n",
      "The average purchase amount between the churn and non-churn customers\n",
      "churn_year_plus1_ind\n",
      "0    3.00\n",
      "1    2.48\n",
      "Name: log_purch_amt_life, dtype: float64\n",
      " \n",
      "The average scheduled purchases between the churn and non-churn customers\n",
      "churn_year_plus1_ind\n",
      "0    3.57e-01\n",
      "1    5.34e-03\n",
      "Name: scheduled_purchase_flg, dtype: float64\n",
      " \n",
      "The average months since last transaction between the churn and non-churn customers \n",
      "churn_year_plus1_ind\n",
      "0    1.76\n",
      "1    6.11\n",
      "Name: months_since_last_trans, dtype: float64\n"
     ]
    }
   ],
   "source": [
    "\n",
    "print(\"###########################################\") \n",
    "print(\"          averages by churn ind            \")\n",
    "print(\"##########################################\\n\") \n",
    "\n",
    "print('The average purchase amount between the churn and non-churn customers')\n",
    "print(combined_df.groupby('churn_year_plus1_ind')['log_purch_amt_life'].mean())\n",
    "\n",
    "print(' ')\n",
    "print('The average scheduled purchases between the churn and non-churn customers')\n",
    "print(combined_df.groupby('churn_year_plus1_ind')['scheduled_purchase_flg'].mean())\n",
    "\n",
    "print(\" \") \n",
    "print(\"The average months since last transaction between the churn and non-churn customers \") \n",
    "print(combined_df.groupby('churn_year_plus1_ind')['months_since_last_trans'].mean())"
   ]
  },
  {
   "cell_type": "markdown",
   "metadata": {},
   "source": [
    "#### Descriptive Statistics"
   ]
  },
  {
   "cell_type": "code",
   "execution_count": 14,
   "metadata": {},
   "outputs": [
    {
     "name": "stdout",
     "output_type": "stream",
     "text": [
      " summary stats on combined data \n",
      "                            count unique         top   freq     mean      std      min   25%      50%      75%      max\n",
      "ST                          73384     59          CA   6641      NaN      NaN      NaN   NaN      NaN      NaN      NaN\n",
      "Zip                         73384  18351     missing    282      NaN      NaN      NaN   NaN      NaN      NaN      NaN\n",
      "DMA                         73384    216         803   3012      NaN      NaN      NaN   NaN      NaN      NaN      NaN\n",
      "Area_Cd                     73384    328     missing   3849      NaN      NaN      NaN   NaN      NaN      NaN      NaN\n",
      "emailable                 7.3e+04    NaN         NaN    NaN     0.52      0.5        0     0        1        1        1\n",
      "solicit_ph_ind            7.3e+04    NaN         NaN    NaN     0.89     0.31        0     1        1        1        1\n",
      "solicit_email_ind         7.3e+04    NaN         NaN    NaN     0.96     0.19        0     1        1        1        1\n",
      "fixd_incm_flg             7.3e+04    NaN         NaN    NaN    0.092     0.29        0     0        0        0        1\n",
      "scheduled_purchase_flg    7.3e+04    NaN         NaN    NaN     0.26     0.44        0     0        0        1        1\n",
      "months_since_last_trans   7.3e+04    NaN         NaN    NaN      2.9      3.1        1     1        1        4       12\n",
      "months_since_first_trans  7.3e+04    NaN         NaN    NaN       65       58        1    14       46  1.1e+02    3e+02\n",
      "purch_avg_interval        7.3e+04    NaN         NaN    NaN      4.9       10        0     1      1.2      2.6  1.6e+02\n",
      "mail_cnt_36mo             7.3e+04    NaN         NaN    NaN       19       15        0     6       16       33  4.3e+02\n",
      "call_in_mo_36mo           7.3e+04    NaN         NaN    NaN      7.8       46        0     0        0        3  2.3e+03\n",
      "call_out_mo_36mo          7.3e+04    NaN         NaN    NaN      2.3      2.4        0     1        2        3       38\n",
      "tier                        73384      5    1-Bronze  46991      NaN      NaN      NaN   NaN      NaN      NaN      NaN\n",
      "tier_prev                   73384      6         xxx  49556      NaN      NaN      NaN   NaN      NaN      NaN      NaN\n",
      "acct_ID                     73384  73384  I127827657      1      NaN      NaN      NaN   NaN      NaN      NaN      NaN\n",
      "activation_date             73384    200     06JUL00   5294      NaN      NaN      NaN   NaN      NaN      NaN      NaN\n",
      "event_date                  19306     12     31JUL15   2153      NaN      NaN      NaN   NaN      NaN      NaN      NaN\n",
      "churn_year_plus1_ind      7.3e+04    NaN         NaN    NaN     0.26     0.44        0     0        0        1        1\n",
      "log_order_cnt_36mo        7.3e+04    NaN         NaN    NaN     0.74     0.29        0   0.6      0.7      0.9      2.7\n",
      "log_purch_amt_36mo        7.3e+04    NaN         NaN    NaN      2.6     0.65        0   2.2      2.7        3      5.8\n",
      "log_purch_amt_life        7.3e+04    NaN         NaN    NaN      2.9     0.79        0   2.3      2.9      3.4        6\n",
      "log_purch_avg_36mo        7.3e+04    NaN         NaN    NaN      1.5     0.35        0   1.3      1.4      1.7      4.7\n",
      "log_purch_cnt_life        7.3e+04    NaN         NaN    NaN      1.4      0.6      0.3  0.95      1.4      1.9      3.2\n",
      "log_purch_cnt_tt_36mo     7.3e+04    NaN         NaN    NaN      1.1     0.43        0  0.85      1.2      1.5      2.8\n",
      "log_resp_cnt_36mo         7.3e+04    NaN         NaN    NaN     0.33     0.45        0     0        0      0.6      2.4\n",
      "perc_purch_cc_36mo        7.3e+04    NaN         NaN    NaN     0.31     0.44        0     0        0     0.93        1\n",
      "perc_purch_ck_36mo        7.3e+04    NaN         NaN    NaN     0.56     0.47        0     0     0.93        1        2\n",
      "perc_purch_et_36mo        7.3e+04    NaN         NaN    NaN     0.13     0.32        0     0        0        0        1\n",
      "margin_Y_neg_1            7.3e+04    NaN         NaN    NaN  2.3e+02  1.6e+03 -1.9e+04    43  1.8e+02  3.4e+02    2e+05\n",
      "margin_Y_neg_2            7.3e+04    NaN         NaN    NaN  1.9e+02  1.7e+03 -7.7e+03     0  1.2e+02  2.9e+02    2e+05\n",
      "margin_Y_neg_3            7.3e+04    NaN         NaN    NaN  1.6e+02  1.4e+03 -6.9e+03     0       26  2.4e+02  1.9e+05\n",
      "margin_Y_pos_1            7.3e+04    NaN         NaN    NaN  3.6e+02  1.7e+03 -2.7e+03  -2.2  1.6e+02  3.3e+02    2e+05\n",
      "margin_3yr_avg            7.3e+04    NaN         NaN    NaN  1.9e+02  1.3e+03 -7.2e+03    29  1.3e+02  2.9e+02  1.8e+05\n",
      "log_margin_Y_neg_1        7.3e+04    NaN         NaN    NaN      4.7   0.0097      4.5   4.7      4.7      4.7      5.4\n",
      "log_margin_Y_neg_2        7.3e+04    NaN         NaN    NaN      4.7   0.0098      4.6   4.7      4.7      4.7      5.4\n",
      "log_margin_Y_neg_3        7.3e+04    NaN         NaN    NaN      4.7   0.0084      4.6   4.7      4.7      4.7      5.4\n",
      "log_margin_3yr_avg        7.3e+04    NaN         NaN    NaN      4.7   0.0082      4.6   4.7      4.7      4.7      5.4\n",
      "log_margin_Y_pos_1        7.3e+04    NaN         NaN    NaN      4.7   0.0096      4.7   4.7      4.7      4.7      5.4\n",
      "ST_AE                     7.3e+04    NaN         NaN    NaN  0.00019    0.014        0     0        0        0        1\n",
      "ST_AK                     7.3e+04    NaN         NaN    NaN   0.0032    0.057        0     0        0        0        1\n",
      "ST_AL                     7.3e+04    NaN         NaN    NaN    0.021     0.14        0     0        0        0        1\n",
      "ST_AP                     7.3e+04    NaN         NaN    NaN   0.0002    0.014        0     0        0        0        1\n",
      "ST_AR                     7.3e+04    NaN         NaN    NaN   0.0076    0.087        0     0        0        0        1\n",
      "ST_AS                     7.3e+04    NaN         NaN    NaN  1.4e-05   0.0037        0     0        0        0        1\n",
      "ST_AZ                     7.3e+04    NaN         NaN    NaN    0.022     0.15        0     0        0        0        1\n",
      "ST_CA                     7.3e+04    NaN         NaN    NaN     0.09     0.29        0     0        0        0        1\n",
      "ST_CO                     7.3e+04    NaN         NaN    NaN    0.013     0.11        0     0        0        0        1\n",
      "ST_CT                     7.3e+04    NaN         NaN    NaN   0.0062    0.078        0     0        0        0        1\n",
      "ST_DC                     7.3e+04    NaN         NaN    NaN   0.0011    0.033        0     0        0        0        1\n",
      "ST_DE                     7.3e+04    NaN         NaN    NaN   0.0034    0.058        0     0        0        0        1\n",
      "ST_FL                     7.3e+04    NaN         NaN    NaN    0.068     0.25        0     0        0        0        1\n",
      "ST_GA                     7.3e+04    NaN         NaN    NaN     0.04      0.2        0     0        0        0        1\n",
      "ST_GU                     7.3e+04    NaN         NaN    NaN  0.00018    0.013        0     0        0        0        1\n",
      "ST_HI                     7.3e+04    NaN         NaN    NaN   0.0055    0.074        0     0        0        0        1\n",
      "ST_IA                     7.3e+04    NaN         NaN    NaN   0.0064     0.08        0     0        0        0        1\n",
      "ST_ID                     7.3e+04    NaN         NaN    NaN   0.0048    0.069        0     0        0        0        1\n",
      "ST_IL                     7.3e+04    NaN         NaN    NaN    0.029     0.17        0     0        0        0        1\n",
      "ST_IN                     7.3e+04    NaN         NaN    NaN    0.025     0.15        0     0        0        0        1\n",
      "ST_KS                     7.3e+04    NaN         NaN    NaN    0.013     0.11        0     0        0        0        1\n",
      "ST_KY                     7.3e+04    NaN         NaN    NaN    0.015     0.12        0     0        0        0        1\n",
      "ST_LA                     7.3e+04    NaN         NaN    NaN    0.023     0.15        0     0        0        0        1\n",
      "ST_MA                     7.3e+04    NaN         NaN    NaN   0.0095    0.097        0     0        0        0        1\n",
      "ST_MD                     7.3e+04    NaN         NaN    NaN    0.019     0.14        0     0        0        0        1\n",
      "ST_ME                     7.3e+04    NaN         NaN    NaN   0.0017    0.041        0     0        0        0        1\n",
      "ST_MI                     7.3e+04    NaN         NaN    NaN    0.027     0.16        0     0        0        0        1\n",
      "ST_MN                     7.3e+04    NaN         NaN    NaN    0.012     0.11        0     0        0        0        1\n",
      "ST_MO                     7.3e+04    NaN         NaN    NaN    0.022     0.15        0     0        0        0        1\n",
      "ST_MP                     7.3e+04    NaN         NaN    NaN  9.5e-05   0.0098        0     0        0        0        1\n",
      "ST_MS                     7.3e+04    NaN         NaN    NaN   0.0075    0.087        0     0        0        0        1\n",
      "ST_MT                     7.3e+04    NaN         NaN    NaN   0.0043    0.065        0     0        0        0        1\n",
      "ST_NC                     7.3e+04    NaN         NaN    NaN    0.044     0.21        0     0        0        0        1\n",
      "ST_ND                     7.3e+04    NaN         NaN    NaN   0.0029    0.053        0     0        0        0        1\n",
      "ST_NE                     7.3e+04    NaN         NaN    NaN   0.0036     0.06        0     0        0        0        1\n",
      "ST_NH                     7.3e+04    NaN         NaN    NaN   0.0015    0.039        0     0        0        0        1\n",
      "ST_NJ                     7.3e+04    NaN         NaN    NaN    0.018     0.13        0     0        0        0        1\n",
      "ST_NM                     7.3e+04    NaN         NaN    NaN    0.011      0.1        0     0        0        0        1\n",
      "ST_NV                     7.3e+04    NaN         NaN    NaN   0.0051    0.071        0     0        0        0        1\n",
      "ST_NY                     7.3e+04    NaN         NaN    NaN     0.04      0.2        0     0        0        0        1\n",
      "ST_OH                     7.3e+04    NaN         NaN    NaN    0.039     0.19        0     0        0        0        1\n",
      "ST_OK                     7.3e+04    NaN         NaN    NaN    0.015     0.12        0     0        0        0        1\n",
      "ST_OR                     7.3e+04    NaN         NaN    NaN    0.024     0.15        0     0        0        0        1\n",
      "ST_PA                     7.3e+04    NaN         NaN    NaN    0.051     0.22        0     0        0        0        1\n",
      "ST_PR                     7.3e+04    NaN         NaN    NaN  0.00045    0.021        0     0        0        0        1\n",
      "ST_RI                     7.3e+04    NaN         NaN    NaN   0.0041    0.064        0     0        0        0        1\n",
      "ST_SC                     7.3e+04    NaN         NaN    NaN    0.019     0.14        0     0        0        0        1\n",
      "ST_SD                     7.3e+04    NaN         NaN    NaN   0.0024    0.049        0     0        0        0        1\n",
      "ST_TN                     7.3e+04    NaN         NaN    NaN    0.029     0.17        0     0        0        0        1\n",
      "ST_TX                     7.3e+04    NaN         NaN    NaN    0.089     0.28        0     0        0        0        1\n",
      "ST_UT                     7.3e+04    NaN         NaN    NaN   0.0014    0.038        0     0        0        0        1\n",
      "ST_VA                     7.3e+04    NaN         NaN    NaN    0.044      0.2        0     0        0        0        1\n",
      "ST_VI                     7.3e+04    NaN         NaN    NaN  0.00026    0.016        0     0        0        0        1\n",
      "ST_VT                     7.3e+04    NaN         NaN    NaN  0.00074    0.027        0     0        0        0        1\n",
      "ST_WA                     7.3e+04    NaN         NaN    NaN    0.027     0.16        0     0        0        0        1\n",
      "ST_WI                     7.3e+04    NaN         NaN    NaN    0.013     0.11        0     0        0        0        1\n",
      "ST_WV                     7.3e+04    NaN         NaN    NaN   0.0085    0.092        0     0        0        0        1\n",
      "ST_WY                     7.3e+04    NaN         NaN    NaN    0.002    0.045        0     0        0        0        1\n",
      "ST_missing                7.3e+04    NaN         NaN    NaN    0.004    0.063        0     0        0        0        1\n",
      "tier_1-Bronze             7.3e+04    NaN         NaN    NaN     0.64     0.48        0     0        1        1        1\n",
      "tier_2-Silver             7.3e+04    NaN         NaN    NaN      0.2      0.4        0     0        0        0        1\n",
      "tier_3-Gold               7.3e+04    NaN         NaN    NaN     0.11     0.32        0     0        0        0        1\n",
      "tier_4-Platinum           7.3e+04    NaN         NaN    NaN    0.023     0.15        0     0        0        0        1\n",
      "tier_5-Diamond            7.3e+04    NaN         NaN    NaN     0.02     0.14        0     0        0        0        1\n",
      "tier_prev_1-Bronze        7.3e+04    NaN         NaN    NaN     0.21     0.41        0     0        0        0        1\n",
      "tier_prev_2-Silver        7.3e+04    NaN         NaN    NaN    0.064     0.24        0     0        0        0        1\n",
      "tier_prev_3-Gold          7.3e+04    NaN         NaN    NaN    0.033     0.18        0     0        0        0        1\n",
      "tier_prev_4-Platinum      7.3e+04    NaN         NaN    NaN    0.011      0.1        0     0        0        0        1\n",
      "tier_prev_5-Diamond       7.3e+04    NaN         NaN    NaN   0.0061    0.078        0     0        0        0        1\n",
      "tier_prev_xxx             7.3e+04    NaN         NaN    NaN     0.68     0.47        0     0        1        1        1\n"
     ]
    }
   ],
   "source": [
    "print(\" summary stats on combined data \") \n",
    "print(combined_df.describe(include='all').transpose())"
   ]
  },
  {
   "cell_type": "markdown",
   "metadata": {},
   "source": [
    "#### Dropping insignicant variablesand creating new version of data for modeling:\n",
    "\n",
    "          1. Any categorical variable for which we create dummy indicators\n",
    "           other variables we don't want in the model, or which don't make sense\n",
    "           to be included in model training, we are dropping here\n",
    "\n",
    "          2. We also want to drop acct_ID, but we are going to do that after partioning\n",
    "             because we need acct_ID for partioned sets to for reference later         "
   ]
  },
  {
   "cell_type": "code",
   "execution_count": 15,
   "metadata": {},
   "outputs": [
    {
     "data": {
      "text/plain": [
       "(73384, 103)"
      ]
     },
     "execution_count": 15,
     "metadata": {},
     "output_type": "execute_result"
    }
   ],
   "source": [
    "x_train_df = combined_df.drop(['Zip','DMA','Area_Cd','activation_date','event_date',\n",
    "                            'ST','tier','tier_prev'\n",
    "                              ],axis=1)\n",
    "\n",
    "x_train_df.shape"
   ]
  },
  {
   "cell_type": "markdown",
   "metadata": {},
   "source": [
    "### Partitioning data into Training and Test sets\n",
    "    \n",
    "        Creating dataframes with just account IDs to be used to rejoin data later:"
   ]
  },
  {
   "cell_type": "code",
   "execution_count": 16,
   "metadata": {},
   "outputs": [
    {
     "data": {
      "text/plain": [
       "(51368, 99)"
      ]
     },
     "execution_count": 16,
     "metadata": {},
     "output_type": "execute_result"
    }
   ],
   "source": [
    "x_train_df, x_test_df = train_test_split(x_train_df, test_size = 0.30)\n",
    "\n",
    "#will need the acct_IDs to rejoin data later,\n",
    "#so pulling out now before dropping from actual model training data \n",
    "\n",
    "train_acct_IDs_df = x_train_df[['acct_ID']]\n",
    "test_acct_IDs_df  = x_test_df[['acct_ID']]\n",
    "\n",
    "#the target (or dependent) variable is stored in it's own dataframe\n",
    "y_train_df = x_train_df[['churn_year_plus1_ind']]\n",
    "y_test_df  = x_test_df[['churn_year_plus1_ind']]\n",
    "\n",
    "#We want to drop acct_ID and the target variable from the dataframe of independent variables \n",
    "#We want to drop the target (future timeframe) variables for margin modeling               \n",
    "\n",
    "x_train_df = x_train_df.drop(['acct_ID','churn_year_plus1_ind', 'log_margin_Y_pos_1', 'margin_Y_pos_1'],axis=1)\n",
    "\n",
    "x_test_df = x_test_df.drop(['acct_ID','churn_year_plus1_ind', 'log_margin_Y_pos_1', 'margin_Y_pos_1'],axis=1)\n",
    "\n",
    "x_train_df.shape"
   ]
  },
  {
   "cell_type": "markdown",
   "metadata": {},
   "source": [
    "### Using Logistic Regression Model to select variables.\n"
   ]
  },
  {
   "cell_type": "code",
   "execution_count": 18,
   "metadata": {},
   "outputs": [],
   "source": [
    "#models penalized with the L1 norm have sparse solutions: many of their estimated coefficients are zero\n",
    "#SelectFromModel can be used to to select effects with non-zero coefficients \n",
    "#the parameter C controls the sparsity: the smaller C the fewer features selected\n",
    "\n",
    "#using the ravel simply to avoid warning logs\n",
    "y_train_array=np.ravel(y_train_df)\n",
    "\n",
    "\n",
    "model1 = linear_model.LogisticRegression(C=0.01, solver='liblinear', penalty='l1', tol=0.01)\n",
    "model1_fit = model1.fit(x_train_df, y_train_array)\n",
    "model1_selects = SelectFromModel(model1_fit, prefit=True)\n",
    "\n",
    "\n",
    "\"\"\"x_train_selected_df = model1_selects.transform(x_train_df)\"\"\"\n",
    "#in lieu of commented-out transform method above,\n",
    "#can use this method to explicitly define columns to keep\n",
    "x_train_selected_df = x_train_df[x_train_df.columns[model1_selects.get_support()]]\n",
    "x_test_selected_df  = x_test_df[x_test_df.columns[model1_selects.get_support()]]\n"
   ]
  },
  {
   "cell_type": "code",
   "execution_count": 19,
   "metadata": {},
   "outputs": [
    {
     "data": {
      "text/plain": [
       "(30, 1)"
      ]
     },
     "execution_count": 19,
     "metadata": {},
     "output_type": "execute_result"
    }
   ],
   "source": [
    "coefficients = pd.DataFrame(model1_fit.coef_)\n",
    "coefficients = np.transpose(coefficients[coefficients.columns[model1_selects.get_support()]])\n",
    "coefficients = coefficients.reset_index(drop=True)\n",
    "coefficients_match = pd.concat([pd.DataFrame(x_train_selected_df.columns),coefficients], axis = 1)\n",
    "coefficients.shape "
   ]
  },
  {
   "cell_type": "code",
   "execution_count": 20,
   "metadata": {},
   "outputs": [
    {
     "name": "stdout",
     "output_type": "stream",
     "text": [
      " \n",
      "Coefficients for selected variables\n"
     ]
    },
    {
     "data": {
      "text/html": [
       "<div>\n",
       "<style scoped>\n",
       "    .dataframe tbody tr th:only-of-type {\n",
       "        vertical-align: middle;\n",
       "    }\n",
       "\n",
       "    .dataframe tbody tr th {\n",
       "        vertical-align: top;\n",
       "    }\n",
       "\n",
       "    .dataframe thead th {\n",
       "        text-align: right;\n",
       "    }\n",
       "</style>\n",
       "<table border=\"1\" class=\"dataframe\">\n",
       "  <thead>\n",
       "    <tr style=\"text-align: right;\">\n",
       "      <th></th>\n",
       "      <th>0</th>\n",
       "      <th>0</th>\n",
       "    </tr>\n",
       "  </thead>\n",
       "  <tbody>\n",
       "    <tr>\n",
       "      <td>0</td>\n",
       "      <td>emailable</td>\n",
       "      <td>-2.45e-02</td>\n",
       "    </tr>\n",
       "    <tr>\n",
       "      <td>1</td>\n",
       "      <td>solicit_ph_ind</td>\n",
       "      <td>-5.93e-02</td>\n",
       "    </tr>\n",
       "    <tr>\n",
       "      <td>2</td>\n",
       "      <td>solicit_email_ind</td>\n",
       "      <td>-3.63e-03</td>\n",
       "    </tr>\n",
       "    <tr>\n",
       "      <td>3</td>\n",
       "      <td>scheduled_purchase_flg</td>\n",
       "      <td>-3.46e+00</td>\n",
       "    </tr>\n",
       "    <tr>\n",
       "      <td>4</td>\n",
       "      <td>months_since_last_trans</td>\n",
       "      <td>4.01e-01</td>\n",
       "    </tr>\n",
       "    <tr>\n",
       "      <td>5</td>\n",
       "      <td>months_since_first_trans</td>\n",
       "      <td>-2.62e-03</td>\n",
       "    </tr>\n",
       "    <tr>\n",
       "      <td>6</td>\n",
       "      <td>purch_avg_interval</td>\n",
       "      <td>-2.46e-03</td>\n",
       "    </tr>\n",
       "    <tr>\n",
       "      <td>7</td>\n",
       "      <td>mail_cnt_36mo</td>\n",
       "      <td>-7.88e-03</td>\n",
       "    </tr>\n",
       "    <tr>\n",
       "      <td>8</td>\n",
       "      <td>call_in_mo_36mo</td>\n",
       "      <td>4.32e-04</td>\n",
       "    </tr>\n",
       "    <tr>\n",
       "      <td>9</td>\n",
       "      <td>call_out_mo_36mo</td>\n",
       "      <td>-1.54e-02</td>\n",
       "    </tr>\n",
       "    <tr>\n",
       "      <td>10</td>\n",
       "      <td>log_order_cnt_36mo</td>\n",
       "      <td>-6.86e-01</td>\n",
       "    </tr>\n",
       "    <tr>\n",
       "      <td>11</td>\n",
       "      <td>log_purch_amt_36mo</td>\n",
       "      <td>-4.57e-04</td>\n",
       "    </tr>\n",
       "    <tr>\n",
       "      <td>12</td>\n",
       "      <td>log_purch_amt_life</td>\n",
       "      <td>-4.91e-02</td>\n",
       "    </tr>\n",
       "    <tr>\n",
       "      <td>13</td>\n",
       "      <td>log_purch_avg_36mo</td>\n",
       "      <td>-4.26e-02</td>\n",
       "    </tr>\n",
       "    <tr>\n",
       "      <td>14</td>\n",
       "      <td>log_purch_cnt_life</td>\n",
       "      <td>-4.05e-01</td>\n",
       "    </tr>\n",
       "    <tr>\n",
       "      <td>15</td>\n",
       "      <td>log_purch_cnt_tt_36mo</td>\n",
       "      <td>2.94e-03</td>\n",
       "    </tr>\n",
       "    <tr>\n",
       "      <td>16</td>\n",
       "      <td>log_resp_cnt_36mo</td>\n",
       "      <td>-1.30e-01</td>\n",
       "    </tr>\n",
       "    <tr>\n",
       "      <td>17</td>\n",
       "      <td>perc_purch_cc_36mo</td>\n",
       "      <td>3.78e-01</td>\n",
       "    </tr>\n",
       "    <tr>\n",
       "      <td>18</td>\n",
       "      <td>perc_purch_ck_36mo</td>\n",
       "      <td>-3.86e-01</td>\n",
       "    </tr>\n",
       "    <tr>\n",
       "      <td>19</td>\n",
       "      <td>perc_purch_et_36mo</td>\n",
       "      <td>5.96e-01</td>\n",
       "    </tr>\n",
       "    <tr>\n",
       "      <td>20</td>\n",
       "      <td>margin_Y_neg_1</td>\n",
       "      <td>-4.19e-05</td>\n",
       "    </tr>\n",
       "    <tr>\n",
       "      <td>21</td>\n",
       "      <td>margin_Y_neg_2</td>\n",
       "      <td>4.01e-05</td>\n",
       "    </tr>\n",
       "    <tr>\n",
       "      <td>22</td>\n",
       "      <td>margin_3yr_avg</td>\n",
       "      <td>-2.94e-05</td>\n",
       "    </tr>\n",
       "    <tr>\n",
       "      <td>23</td>\n",
       "      <td>log_margin_Y_neg_1</td>\n",
       "      <td>-2.08e-02</td>\n",
       "    </tr>\n",
       "    <tr>\n",
       "      <td>24</td>\n",
       "      <td>log_margin_Y_neg_2</td>\n",
       "      <td>-1.76e-02</td>\n",
       "    </tr>\n",
       "    <tr>\n",
       "      <td>25</td>\n",
       "      <td>log_margin_Y_neg_3</td>\n",
       "      <td>-4.02e-02</td>\n",
       "    </tr>\n",
       "    <tr>\n",
       "      <td>26</td>\n",
       "      <td>log_margin_3yr_avg</td>\n",
       "      <td>-3.76e-03</td>\n",
       "    </tr>\n",
       "    <tr>\n",
       "      <td>27</td>\n",
       "      <td>tier_1-Bronze</td>\n",
       "      <td>1.18e-05</td>\n",
       "    </tr>\n",
       "    <tr>\n",
       "      <td>28</td>\n",
       "      <td>tier_prev_1-Bronze</td>\n",
       "      <td>-6.52e-03</td>\n",
       "    </tr>\n",
       "    <tr>\n",
       "      <td>29</td>\n",
       "      <td>tier_prev_xxx</td>\n",
       "      <td>4.66e-02</td>\n",
       "    </tr>\n",
       "  </tbody>\n",
       "</table>\n",
       "</div>"
      ],
      "text/plain": [
       "                           0         0\n",
       "0                  emailable -2.45e-02\n",
       "1             solicit_ph_ind -5.93e-02\n",
       "2          solicit_email_ind -3.63e-03\n",
       "3     scheduled_purchase_flg -3.46e+00\n",
       "4    months_since_last_trans  4.01e-01\n",
       "5   months_since_first_trans -2.62e-03\n",
       "6         purch_avg_interval -2.46e-03\n",
       "7              mail_cnt_36mo -7.88e-03\n",
       "8            call_in_mo_36mo  4.32e-04\n",
       "9           call_out_mo_36mo -1.54e-02\n",
       "10        log_order_cnt_36mo -6.86e-01\n",
       "11        log_purch_amt_36mo -4.57e-04\n",
       "12        log_purch_amt_life -4.91e-02\n",
       "13        log_purch_avg_36mo -4.26e-02\n",
       "14        log_purch_cnt_life -4.05e-01\n",
       "15     log_purch_cnt_tt_36mo  2.94e-03\n",
       "16         log_resp_cnt_36mo -1.30e-01\n",
       "17        perc_purch_cc_36mo  3.78e-01\n",
       "18        perc_purch_ck_36mo -3.86e-01\n",
       "19        perc_purch_et_36mo  5.96e-01\n",
       "20            margin_Y_neg_1 -4.19e-05\n",
       "21            margin_Y_neg_2  4.01e-05\n",
       "22            margin_3yr_avg -2.94e-05\n",
       "23        log_margin_Y_neg_1 -2.08e-02\n",
       "24        log_margin_Y_neg_2 -1.76e-02\n",
       "25        log_margin_Y_neg_3 -4.02e-02\n",
       "26        log_margin_3yr_avg -3.76e-03\n",
       "27             tier_1-Bronze  1.18e-05\n",
       "28        tier_prev_1-Bronze -6.52e-03\n",
       "29             tier_prev_xxx  4.66e-02"
      ]
     },
     "execution_count": 20,
     "metadata": {},
     "output_type": "execute_result"
    }
   ],
   "source": [
    "print(\" \") \n",
    "print(\"Coefficients for selected variables\")\n",
    "coefficients_match.head(40)"
   ]
  },
  {
   "cell_type": "markdown",
   "metadata": {},
   "source": [
    "### Variable Reduction and Multicolinearity:"
   ]
  },
  {
   "cell_type": "code",
   "execution_count": 21,
   "metadata": {},
   "outputs": [
    {
     "data": {
      "text/plain": [
       "(51368, 30)"
      ]
     },
     "execution_count": 21,
     "metadata": {},
     "output_type": "execute_result"
    }
   ],
   "source": [
    "x_train_selected_df.shape"
   ]
  },
  {
   "cell_type": "code",
   "execution_count": 22,
   "metadata": {},
   "outputs": [
    {
     "name": "stdout",
     "output_type": "stream",
     "text": [
      "dropping 'log_margin_3yr_avg' at index: 26\n",
      "dropping 'log_margin_Y_neg_2' at index: 24\n",
      "dropping 'log_margin_Y_neg_3' at index: 24\n",
      "dropping 'log_purch_amt_36mo' at index: 11\n",
      "dropping 'log_margin_Y_neg_1' at index: 22\n",
      "dropping 'log_purch_amt_life' at index: 11\n",
      "dropping 'log_purch_cnt_tt_36mo' at index: 13\n",
      "dropping 'log_purch_cnt_life' at index: 12\n",
      "dropping 'perc_purch_ck_36mo' at index: 14\n",
      "dropping 'solicit_email_ind' at index: 2\n",
      "dropping 'log_purch_avg_36mo' at index: 10\n",
      "dropping 'margin_3yr_avg' at index: 15\n",
      "dropping 'tier_prev_xxx' at index: 17\n",
      "Remaining variables:\n",
      "Index(['emailable', 'solicit_ph_ind', 'scheduled_purchase_flg', 'months_since_last_trans', 'months_since_first_trans', 'purch_avg_interval', 'mail_cnt_36mo', 'call_in_mo_36mo', 'call_out_mo_36mo', 'log_order_cnt_36mo', 'log_resp_cnt_36mo', 'perc_purch_cc_36mo', 'perc_purch_et_36mo', 'margin_Y_neg_1', 'margin_Y_neg_2', 'tier_1-Bronze', 'tier_prev_1-Bronze'], dtype='object')\n"
     ]
    },
    {
     "data": {
      "text/plain": [
       "(51368, 17)"
      ]
     },
     "execution_count": 22,
     "metadata": {},
     "output_type": "execute_result"
    }
   ],
   "source": [
    "from statsmodels.stats.outliers_influence import variance_inflation_factor    \n",
    "\n",
    "def calculate_vif_(X, thresh=10):\n",
    "    cols = X.columns\n",
    "    variables = np.arange(X.shape[1])\n",
    "    dropped=True\n",
    "    while dropped:\n",
    "        c = X[cols[variables]].values\n",
    "        vif = [variance_inflation_factor(c, ix) for ix in np.arange(c.shape[1])]\n",
    "        maxloc = vif.index(max(vif))\n",
    "        if max(vif) > thresh:\n",
    "            print('dropping \\'' + X[cols[variables]].columns[maxloc] + '\\' at index: ' + str(maxloc))\n",
    "            variables = np.delete(variables, maxloc)\n",
    "        else:\n",
    "            dropped=False\n",
    "    print('Remaining variables:')\n",
    "    print(X.columns[variables])        \n",
    "        \n",
    "    return X.iloc[:, variables]\n",
    "\n",
    "x_train_selected_df=calculate_vif_(x_train_selected_df, 10.0)\n",
    "        \n",
    "x_train_selected_df.shape"
   ]
  },
  {
   "cell_type": "markdown",
   "metadata": {},
   "source": [
    "### Reducing test set to match train set\n"
   ]
  },
  {
   "cell_type": "code",
   "execution_count": 24,
   "metadata": {},
   "outputs": [
    {
     "name": "stdout",
     "output_type": "stream",
     "text": [
      "Remaining variables in test set:\n",
      "Index(['emailable', 'solicit_ph_ind', 'scheduled_purchase_flg', 'months_since_last_trans', 'months_since_first_trans', 'purch_avg_interval', 'mail_cnt_36mo', 'call_in_mo_36mo', 'call_out_mo_36mo', 'log_order_cnt_36mo', 'log_resp_cnt_36mo', 'perc_purch_cc_36mo', 'perc_purch_et_36mo', 'margin_Y_neg_1', 'margin_Y_neg_2', 'tier_1-Bronze', 'tier_prev_1-Bronze'], dtype='object')\n"
     ]
    },
    {
     "data": {
      "text/plain": [
       "(22016, 17)"
      ]
     },
     "execution_count": 24,
     "metadata": {},
     "output_type": "execute_result"
    }
   ],
   "source": [
    "\"\"\" reducing the test set to have the same columns as the training set \"\"\"\n",
    "\n",
    "x_test_selected_df=x_test_selected_df[x_train_selected_df.columns]\n",
    "print('Remaining variables in test set:')\n",
    "print(x_test_selected_df.columns)\n",
    "        \n",
    "x_test_selected_df.shape"
   ]
  },
  {
   "cell_type": "markdown",
   "metadata": {},
   "source": [
    "### Using the statsmodels package to view the output"
   ]
  },
  {
   "cell_type": "code",
   "execution_count": 25,
   "metadata": {},
   "outputs": [
    {
     "name": "stdout",
     "output_type": "stream",
     "text": [
      "Optimization terminated successfully.\n",
      "         Current function value: 0.319917\n",
      "         Iterations 9\n",
      " \n",
      "Logistic model with selected variables\n",
      " \n",
      "                             Results: Logit\n",
      "=========================================================================\n",
      "Model:                Logit                 Pseudo R-squared:  0.445     \n",
      "Dependent Variable:   churn_year_plus1_ind  AIC:               32903.0310\n",
      "Date:                 2020-04-03 16:15      BIC:               33062.2729\n",
      "No. Observations:     51368                 Log-Likelihood:    -16434.   \n",
      "Df Model:             17                    LL-Null:           -29598.   \n",
      "Df Residuals:         51350                 LLR p-value:       0.0000    \n",
      "Converged:            1.0000                Scale:             1.0000    \n",
      "No. Iterations:       9.0000                                             \n",
      "-------------------------------------------------------------------------\n",
      "                          Coef.  Std.Err.    z     P>|z|   [0.025  0.975]\n",
      "-------------------------------------------------------------------------\n",
      "const                    -1.5800   0.0812 -19.4639 0.0000 -1.7391 -1.4209\n",
      "emailable                -0.1217   0.0297  -4.1014 0.0000 -0.1799 -0.0636\n",
      "solicit_ph_ind           -0.0580   0.0480  -1.2087 0.2268 -0.1521  0.0361\n",
      "scheduled_purchase_flg   -4.7200   0.1246 -37.8851 0.0000 -4.9642 -4.4758\n",
      "months_since_last_trans   0.4347   0.0053  82.7891 0.0000  0.4244  0.4450\n",
      "months_since_first_trans -0.0058   0.0003 -18.7476 0.0000 -0.0064 -0.0052\n",
      "purch_avg_interval        0.0060   0.0014   4.3024 0.0000  0.0033  0.0087\n",
      "mail_cnt_36mo            -0.0125   0.0017  -7.2247 0.0000 -0.0158 -0.0091\n",
      "call_in_mo_36mo          -0.0006   0.0004  -1.6542 0.0981 -0.0014  0.0001\n",
      "call_out_mo_36mo         -0.0325   0.0080  -4.0753 0.0000 -0.0482 -0.0169\n",
      "log_order_cnt_36mo       -0.2941   0.0621  -4.7387 0.0000 -0.4158 -0.1725\n",
      "log_resp_cnt_36mo        -0.1672   0.0477  -3.5024 0.0005 -0.2607 -0.0736\n",
      "perc_purch_cc_36mo        0.9423   0.0414  22.7757 0.0000  0.8612  1.0234\n",
      "perc_purch_et_36mo        1.4674   0.0718  20.4401 0.0000  1.3267  1.6081\n",
      "margin_Y_neg_1           -0.0001   0.0000  -2.7446 0.0061 -0.0001 -0.0000\n",
      "margin_Y_neg_2            0.0000   0.0000   2.0517 0.0402  0.0000  0.0000\n",
      "tier_1-Bronze             0.0830   0.0380   2.1861 0.0288  0.0086  0.1574\n",
      "tier_prev_1-Bronze       -0.1474   0.0465  -3.1710 0.0015 -0.2386 -0.0563\n",
      "=========================================================================\n",
      "\n",
      "AIC:  32903.030984949255\n",
      "BIC:  33062.272857359785\n"
     ]
    },
    {
     "name": "stderr",
     "output_type": "stream",
     "text": [
      "C:\\Users\\Harish Patlolla\\Anaconda3\\lib\\site-packages\\numpy\\core\\fromnumeric.py:2389: FutureWarning: Method .ptp is deprecated and will be removed in a future version. Use numpy.ptp instead.\n",
      "  return ptp(axis=axis, out=out, **kwargs)\n"
     ]
    }
   ],
   "source": [
    "## for the statsmodels, need to add a constant to fit intercept \n",
    "\n",
    "x_train_selected_df = sm.add_constant(x_train_selected_df, has_constant='add')\n",
    "x_test_selected_df  = sm.add_constant(x_test_selected_df, has_constant='add')\n",
    "\n",
    "#modeling with selected variables from steps above \n",
    "\n",
    "model = sm.Logit(y_train_df, x_train_selected_df)\n",
    "result = model.fit(maxiter=100)\n",
    "\n",
    "print(\" \") \n",
    "print(\"Logistic model with selected variables\")\n",
    "print(\" \") \n",
    "print(result.summary2())\n",
    "print('AIC: ', result.aic)\n",
    "print('BIC: ', result.bic)"
   ]
  },
  {
   "cell_type": "markdown",
   "metadata": {},
   "source": [
    "### Scoring the test data "
   ]
  },
  {
   "cell_type": "code",
   "execution_count": 27,
   "metadata": {},
   "outputs": [
    {
     "name": "stdout",
     "output_type": "stream",
     "text": [
      "AROC train:  0.9174373579588242\n",
      "AROC test:  0.9187233722048544\n"
     ]
    }
   ],
   "source": [
    "# \"\"\" predicted values using the model \"\"\"\n",
    "# \"\"\" using numpy copy to store result as an array \"\"\"\n",
    "# \"\"\" manually adding a column header \"\"\"\n",
    "\n",
    "predict_train = pd.DataFrame(np.copy(result.predict(x_train_selected_df)), columns=[\"P_churn_year_plus1_ind\"])\n",
    "predict_test = pd.DataFrame(np.copy(result.predict(x_test_selected_df)), columns=[\"P_churn_year_plus1_ind\"])\n",
    "\n",
    "print ('AROC train: ', metrics.roc_auc_score(y_train_df, predict_train))\n",
    "print ('AROC test: ', metrics.roc_auc_score(y_test_df, predict_test))\n"
   ]
  },
  {
   "cell_type": "code",
   "execution_count": 28,
   "metadata": {},
   "outputs": [],
   "source": [
    "#Resetting index to join the account IDs\n",
    "y_train_df = y_train_df.reset_index(drop=True)\n",
    "y_test_df = y_test_df.reset_index(drop=True)\n",
    "\n",
    "#joining predicted and actuals \n",
    "train_accounts = train_acct_IDs_df.reset_index(drop=True)\n",
    "pred_v_actual_train = y_train_df.join(predict_train)\n",
    "pred_v_actual_train = pred_v_actual_train.join(train_accounts)\n",
    "\n",
    "test_accounts = test_acct_IDs_df.reset_index(drop=True)\n",
    "pred_v_actual_test = y_test_df.join(predict_test)\n",
    "pred_v_actual_test = pred_v_actual_test.join(test_accounts)\n"
   ]
  },
  {
   "cell_type": "code",
   "execution_count": 33,
   "metadata": {},
   "outputs": [
    {
     "name": "stdout",
     "output_type": "stream",
     "text": [
      " \n",
      "MSE train: 0.10064754758345923\n",
      "MSE test: 0.09986591848035152\n",
      "mean squared error train: 0.10064754758345784\n",
      "mean squared error testn: 0.09986591848035117\n"
     ]
    }
   ],
   "source": [
    "print(\" \") \n",
    "print(\"MSE train:\", mean_squared_error(y_train_df, predict_train))\n",
    "print(\"MSE test:\", mean_squared_error(y_test_df, predict_test))\n",
    "\n",
    "\n",
    "print(\"mean squared error train:\" , (np.mean((pred_v_actual_train['churn_year_plus1_ind']-pred_v_actual_train['P_churn_year_plus1_ind'])**2)))\n",
    "print(\"mean squared error testn:\" , (np.mean((pred_v_actual_test['churn_year_plus1_ind']-pred_v_actual_test['P_churn_year_plus1_ind'])**2)))"
   ]
  },
  {
   "cell_type": "markdown",
   "metadata": {},
   "source": [
    "### Gradient Boosting Model"
   ]
  },
  {
   "cell_type": "code",
   "execution_count": 46,
   "metadata": {},
   "outputs": [],
   "source": [
    "#Gradient Boosting\n",
    "params = {'n_estimators': 500, 'min_samples_split': 2,  'max_depth': 5, 'learning_rate': 0.01}\n",
    "gradient_boosting_clf = GradientBoostingClassifier(**params)\n",
    "\n",
    "result = gradient_boosting_clf.fit(x_train_selected_df, y_train_array)\n",
    "\n",
    "#calculating accuracy on the test data\n",
    "accuracy = gradient_boosting_clf.score(x_test_selected_df, y_test_df)\n",
    "print(\"GB overall accuracy:\", accuracy)"
   ]
  },
  {
   "cell_type": "code",
   "execution_count": 47,
   "metadata": {},
   "outputs": [
    {
     "name": "stdout",
     "output_type": "stream",
     "text": [
      "AROC train:  0.940870549112879\n",
      "AROC test:  0.9348520774234702\n"
     ]
    }
   ],
   "source": [
    "\n",
    "#storing the predicted probabilites of churn in train and test data\n",
    "predict_train = pd.DataFrame(np.copy(gradient_boosting_clf.predict_proba(x_train_selected_df)[:, 1]), columns=[\"P_churn_year_plus1_ind\"])\n",
    "predict_test = pd.DataFrame(np.copy(gradient_boosting_clf.predict_proba(x_test_selected_df)[:, 1]), columns=[\"P_churn_year_plus1_ind\"])\n",
    "\n",
    "print ('AROC train: ', metrics.roc_auc_score(y_train_df, predict_train))\n",
    "print ('AROC test: ', metrics.roc_auc_score(y_test_df, predict_test))\n"
   ]
  },
  {
   "cell_type": "code",
   "execution_count": 49,
   "metadata": {},
   "outputs": [
    {
     "name": "stdout",
     "output_type": "stream",
     "text": [
      " \n",
      "MSE train: 0.08445208390737881\n",
      "MSE test: 0.08857621935041637\n",
      " \n",
      "testing that the joining process works. if so, these MSE should match the ones above.\n",
      "mean squared error train: 0.08445208390737824\n",
      "mean squared error test: 0.08857621935041626\n"
     ]
    }
   ],
   "source": [
    "\n",
    "#resetting index to join the account IDs\n",
    "y_train_df = y_train_df.reset_index(drop=True)\n",
    "y_test_df = y_test_df.reset_index(drop=True)\n",
    "\n",
    "train_accounts = train_acct_IDs_df.reset_index(drop=True)\n",
    "pred_v_actual_train = y_train_df.join(predict_train)\n",
    "pred_v_actual_train = pred_v_actual_train.join(train_accounts)\n",
    "\n",
    "test_accounts = test_acct_IDs_df.reset_index(drop=True)\n",
    "pred_v_actual_test = y_test_df.join(predict_test)\n",
    "pred_v_actual_test = pred_v_actual_test.join(test_accounts)\n",
    "\n",
    "print(\" \") \n",
    "print(\"MSE train:\", mean_squared_error(y_train_df, predict_train))\n",
    "print(\"MSE test:\", mean_squared_error(y_test_df, predict_test))\n",
    "\n",
    "print(\" \") \n",
    "print(\"testing that the joining process works. if so, these MSE should match the ones above.\")\n",
    "print(\"mean squared error train:\" , (np.mean((pred_v_actual_train['churn_year_plus1_ind']-pred_v_actual_train['P_churn_year_plus1_ind'])**2)))\n",
    "print(\"mean squared error test:\" , (np.mean((pred_v_actual_test['churn_year_plus1_ind']-pred_v_actual_test['P_churn_year_plus1_ind'])**2)))\n",
    "\n",
    "#Plotting ROC curve\n",
    "y_traint_array = y_train_df.values\n",
    "y_test_array = y_test_df.values\n",
    "\n",
    "test_AROC  = np.zeros((params['n_estimators'],), dtype=np.float64)\n",
    "train_AROC = np.zeros((params['n_estimators'],), dtype=np.float64)\n",
    "\n",
    "for i, y_pred in enumerate(gradient_boosting_clf.staged_predict_proba(x_test_selected_df)):\n",
    "    test_AROC[i] = metrics.roc_auc_score(y_test_array, y_pred[:, 1])\n",
    "\n",
    "for i, y_pred in enumerate(gradient_boosting_clf.staged_predict_proba(x_train_selected_df)):\n",
    "    train_AROC[i] = metrics.roc_auc_score(y_train_array, y_pred[:, 1])\n",
    "\n"
   ]
  },
  {
   "cell_type": "code",
   "execution_count": 62,
   "metadata": {},
   "outputs": [
    {
     "data": {
      "text/plain": [
       "Text(0,0.5,'AROC')"
      ]
     },
     "execution_count": 62,
     "metadata": {},
     "output_type": "execute_result"
    },
    {
     "data": {
      "image/png": "[encoded data removed]",
      "text/plain": [
       "<Figure size 720x360 with 1 Axes>"
      ]
     },
     "metadata": {
      "needs_background": "light"
     },
     "output_type": "display_data"
    }
   ],
   "source": [
    "plt.figure(figsize=(10,5))\n",
    "plt.subplot(1, 2, 1)\n",
    "plt.title('AROC by iteration')\n",
    "plt.plot(np.arange(params['n_estimators']) + 1, train_AROC, 'b-',\n",
    "         label='Training Set AROC')\n",
    "plt.plot(np.arange(params['n_estimators']) + 1, test_AROC, 'r-',\n",
    "         label='Test Set AROC')\n",
    "plt.legend(loc='upper right')\n",
    "plt.xlabel('Boosting Iterations')\n",
    "plt.ylabel('AROC')"
   ]
  },
  {
   "cell_type": "markdown",
   "metadata": {},
   "source": [
    "### Feature Importance for the Gradient Boosting Model:"
   ]
  },
  {
   "cell_type": "code",
   "execution_count": 50,
   "metadata": {},
   "outputs": [
    {
     "data": {
      "image/png": "[encoded data removed]",
      "text/plain": [
       "<Figure size 3600x504 with 1 Axes>"
      ]
     },
     "metadata": {
      "needs_background": "light"
     },
     "output_type": "display_data"
    }
   ],
   "source": [
    "feature_importance = gradient_boosting_clf.feature_importances_\n",
    "\"\"\" make importances relative to max importance \"\"\"\n",
    "feature_importance = 100.0 * (feature_importance / feature_importance.max())\n",
    "sorted_idx = np.argsort(feature_importance)\n",
    "pos = np.arange(sorted_idx.shape[0]) + .5\n",
    "plt.figure(figsize=(50,7))\n",
    "plt.subplot(1, 2, 2)\n",
    "plt.barh(pos, feature_importance[sorted_idx], align='center')\n",
    "plt.yticks(pos, x_train_selected_df.columns[sorted_idx])\n",
    "plt.xlabel('Relative Importance')\n",
    "plt.title('Variable Importance')\n",
    "plt.show()"
   ]
  },
  {
   "cell_type": "markdown",
   "metadata": {},
   "source": [
    "    ### Appending the train and test sets\n",
    "    ### keeping the acct_IDs \n",
    "    ### predicted churn probabilities"
   ]
  },
  {
   "cell_type": "code",
   "execution_count": 52,
   "metadata": {},
   "outputs": [
    {
     "name": "stderr",
     "output_type": "stream",
     "text": [
      "C:\\Users\\Harish Patlolla\\Anaconda3\\lib\\site-packages\\pandas\\core\\frame.py:7123: FutureWarning: Sorting because non-concatenation axis is not aligned. A future version\n",
      "of pandas will change to not sort by default.\n",
      "\n",
      "To accept the future behavior, pass 'sort=False'.\n",
      "\n",
      "To retain the current behavior and silence the warning, pass 'sort=True'.\n",
      "\n",
      "  sort=sort,\n"
     ]
    },
    {
     "data": {
      "text/plain": [
       "(95400, 2)"
      ]
     },
     "execution_count": 52,
     "metadata": {},
     "output_type": "execute_result"
    }
   ],
   "source": [
    "pred_v_actual_train=pred_v_actual_train.append(pred_v_actual_test, ignore_index=True)\n",
    "pred_v_actual_train = pred_v_actual_train.drop(['churn_year_plus1_ind'],axis=1)\n",
    "pred_v_actual_train.to_csv('churn_scores.csv',index=False)\n",
    "pred_v_actual_train.shape"
   ]
  }
 ],
 "metadata": {
  "kernelspec": {
   "display_name": "Python 3",
   "language": "python",
   "name": "python3"
  },
  "language_info": {
   "codemirror_mode": {
    "name": "ipython",
    "version": 3
   },
   "file_extension": ".py",
   "mimetype": "text/x-python",
   "name": "python",
   "nbconvert_exporter": "python",
   "pygments_lexer": "ipython3",
   "version": "3.7.4"
  }
 },
 "nbformat": 4,
 "nbformat_minor": 2
}
