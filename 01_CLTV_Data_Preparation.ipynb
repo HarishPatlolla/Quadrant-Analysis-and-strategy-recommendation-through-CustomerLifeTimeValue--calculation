{
 "cells": [
  {
   "cell_type": "markdown",
   "metadata": {},
   "source": [
    "# Data Preparation"
   ]
  },
  {
   "cell_type": "markdown",
   "metadata": {},
   "source": [
    "### Importing packages:"
   ]
  },
  {
   "cell_type": "code",
   "execution_count": 110,
   "metadata": {},
   "outputs": [],
   "source": [
    "import numpy as np\n",
    "import pandas as pd\n",
    "import sklearn as sk\n",
    "import matplotlib.pyplot as plt\n",
    "import seaborn as sns\n",
    "pd.set_option('display.max_rows', 500)\n",
    "pd.set_option('display.max_columns', 50)\n",
    "pd.set_option('display.width', 1000)\n",
    "pd.set_option('display.precision', 2)"
   ]
  },
  {
   "cell_type": "code",
   "execution_count": 187,
   "metadata": {},
   "outputs": [],
   "source": [
    "from scipy.stats import chi2_contingency\n",
    "\n",
    "class color:\n",
    "   PURPLE = '\\033[95m'\n",
    "   CYAN = '\\033[96m'\n",
    "   DARKCYAN = '\\033[36m'\n",
    "   BLUE = '\\033[94m'\n",
    "   GREEN = '\\033[92m'\n",
    "   YELLOW = '\\033[93m'\n",
    "   RED = '\\033[91m'\n",
    "   BOLD = '\\033[1m'\n",
    "   UNDERLINE = '\\033[4m'\n",
    "   END = '\\033[0m'\n",
    "\n",
    "\n",
    "def categorical_association(df, c1, c2):  \n",
    "    #barchart\n",
    "    sns.catplot(x=c2, col=c1, data=df, saturation=.5,kind=\"count\",height=3, aspect=1)\n",
    "    plt.show()\n",
    "    #creating crosstabs to generate chi-square statistic\n",
    "    data=pd.crosstab(df[c1],df[c2])\n",
    "    # fillna(0) is necessary to remove any NAs which will cause exceptions\n",
    "    s, p, d, t=chi2_contingency(data.fillna(0))\n",
    "    #caluclating cramerV to measure the strength of association between the variables\n",
    "    chi2 = chi2_contingency(data.fillna(0))[0]\n",
    "    n = data.values.sum()\n",
    "    cramers_v=np.sqrt(chi2 / (n*(min(data.shape)-1)))\n",
    "    \n",
    "    if (p<0.05):\n",
    "        print(color.BOLD+color.GREEN + 'There is association between '+str(c1) +' and  ' +str(c2))\n",
    "        print('The strength of the assocation is '+str(round(cramers_v,2)))\n",
    "    else:\n",
    "        print(color.BOLD+color.RED +'There is no association between '+str(c1) +' and  ' +str(c2))\n",
    "    print(' ')\n",
    "    print(color.END+' ')\n",
    "    return c1,round(cramers_v,2),round(p,4)\n",
    "    \n",
    "def continous_association(df,c1,c2):\n",
    "    sns.boxplot(x=c1,y=c2,data=df)\n",
    "    plt.title('Comparison of Average tenure between churned and not churned customers')\n",
    "    plt.show()\n",
    "    churn_sample=churn_data[churn_data[c1]=='Yes'][c2]\n",
    "    nonchurn_sample=churn_data[churn_data[c1]=='No'][c2]\n",
    "    t,p=ttest_ind(churn_sample,nonchurn_sample)\n",
    "    continuous_data=churn_data[c2]\n",
    "    binary_data=pd.DataFrame(churn_data[c1])\n",
    "    binary_data.replace({'Churn':{'No':0,'Yes':1}},inplace=True)\n",
    "    #biserialcorrelation\n",
    "    pbc = pointbiserialr(continuous_data, binary_data[c1])[0]\n",
    "    if (p<0.05):\n",
    "        print(color.BOLD+color.GREEN + 'There is association between '+str(c1) +' and  ' +str(c2))\n",
    "    else:\n",
    "        print(color.BOLD+color.RED +'There is no association between '+str(c1) +' and  ' +str(c2))\n",
    "    print('The strength of relation is '+str(round(pbc,2)))"
   ]
  },
  {
   "cell_type": "markdown",
   "metadata": {},
   "source": [
    "### churn data\n",
    "        \n",
    "            1. Importing the dataframe\n",
    "            2. Looking at number of churn and non-churn customers\n",
    "            3. Looking at descriptive statistics of numeric and categorical attributes\n",
    "            4. Visualizing the data against the target churn\n",
    "            5. Statistical Relationship between the predictors and target\n",
    "            6. Checking for the skewness in the numerical variables\n",
    "            7. Variables tranformations if the data is skewed\n",
    "            8. Checking the skewness in the transformed variables\n",
    "            9. Dropping the unnecessary columns"
   ]
  },
  {
   "cell_type": "code",
   "execution_count": 164,
   "metadata": {},
   "outputs": [],
   "source": [
    "import os\n",
    "os.chdir(\"D:\\Sunny_Personal\\OSU MSBA\\Fall 2019\\BAN5561_CLV\")\n",
    "churn_df=pd.read_csv(\"churn_data.csv\")"
   ]
  },
  {
   "cell_type": "code",
   "execution_count": 165,
   "metadata": {},
   "outputs": [
    {
     "data": {
      "text/html": [
       "<div>\n",
       "<style scoped>\n",
       "    .dataframe tbody tr th:only-of-type {\n",
       "        vertical-align: middle;\n",
       "    }\n",
       "\n",
       "    .dataframe tbody tr th {\n",
       "        vertical-align: top;\n",
       "    }\n",
       "\n",
       "    .dataframe thead th {\n",
       "        text-align: right;\n",
       "    }\n",
       "</style>\n",
       "<table border=\"1\" class=\"dataframe\">\n",
       "  <thead>\n",
       "    <tr style=\"text-align: right;\">\n",
       "      <th></th>\n",
       "      <th>ST</th>\n",
       "      <th>Zip</th>\n",
       "      <th>DMA</th>\n",
       "      <th>Area_Cd</th>\n",
       "      <th>emailable</th>\n",
       "      <th>solicit_ph_ind</th>\n",
       "      <th>solicit_email_ind</th>\n",
       "      <th>fixd_incm_flg</th>\n",
       "      <th>scheduled_purchase_flg</th>\n",
       "      <th>months_since_last_trans</th>\n",
       "      <th>months_since_first_trans</th>\n",
       "      <th>purch_cnt_life</th>\n",
       "      <th>purch_amt_life</th>\n",
       "      <th>purch_cnt_cc_36mo</th>\n",
       "      <th>purch_cnt_et_36mo</th>\n",
       "      <th>purch_cnt_ck_36mo</th>\n",
       "      <th>purch_cnt_tt_36mo</th>\n",
       "      <th>purch_amt_36mo</th>\n",
       "      <th>purch_avg_36mo</th>\n",
       "      <th>purch_avg_interval</th>\n",
       "      <th>mail_cnt_36mo</th>\n",
       "      <th>resp_cnt_36mo</th>\n",
       "      <th>call_in_mo_36mo</th>\n",
       "      <th>call_out_mo_36mo</th>\n",
       "      <th>order_cnt_36mo</th>\n",
       "      <th>tier</th>\n",
       "      <th>tier_prev</th>\n",
       "      <th>acct_ID</th>\n",
       "      <th>activation_date</th>\n",
       "      <th>event_date</th>\n",
       "      <th>churn_year_plus1_ind</th>\n",
       "    </tr>\n",
       "  </thead>\n",
       "  <tbody>\n",
       "    <tr>\n",
       "      <td>0</td>\n",
       "      <td>VA</td>\n",
       "      <td>23464</td>\n",
       "      <td>544</td>\n",
       "      <td>missing</td>\n",
       "      <td>0</td>\n",
       "      <td>0</td>\n",
       "      <td>1</td>\n",
       "      <td>0</td>\n",
       "      <td>0</td>\n",
       "      <td>2</td>\n",
       "      <td>128</td>\n",
       "      <td>53</td>\n",
       "      <td>26029.85</td>\n",
       "      <td>0</td>\n",
       "      <td>0</td>\n",
       "      <td>42</td>\n",
       "      <td>42</td>\n",
       "      <td>14619.5</td>\n",
       "      <td>348.08</td>\n",
       "      <td>2.93</td>\n",
       "      <td>4</td>\n",
       "      <td>0</td>\n",
       "      <td>0</td>\n",
       "      <td>0</td>\n",
       "      <td>1</td>\n",
       "      <td>3-Gold</td>\n",
       "      <td>xxx</td>\n",
       "      <td>B102465045</td>\n",
       "      <td>04JAN04</td>\n",
       "      <td>30JUN15</td>\n",
       "      <td>1</td>\n",
       "    </tr>\n",
       "    <tr>\n",
       "      <td>1</td>\n",
       "      <td>NC</td>\n",
       "      <td>27542</td>\n",
       "      <td>560</td>\n",
       "      <td>919</td>\n",
       "      <td>1</td>\n",
       "      <td>1</td>\n",
       "      <td>1</td>\n",
       "      <td>0</td>\n",
       "      <td>0</td>\n",
       "      <td>4</td>\n",
       "      <td>122</td>\n",
       "      <td>57</td>\n",
       "      <td>12384.00</td>\n",
       "      <td>3</td>\n",
       "      <td>0</td>\n",
       "      <td>20</td>\n",
       "      <td>23</td>\n",
       "      <td>3179.0</td>\n",
       "      <td>138.22</td>\n",
       "      <td>2.11</td>\n",
       "      <td>22</td>\n",
       "      <td>0</td>\n",
       "      <td>4</td>\n",
       "      <td>0</td>\n",
       "      <td>8</td>\n",
       "      <td>5-Diamond</td>\n",
       "      <td>3-Gold</td>\n",
       "      <td>B106897643</td>\n",
       "      <td>04JUL04</td>\n",
       "      <td>NaN</td>\n",
       "      <td>0</td>\n",
       "    </tr>\n",
       "    <tr>\n",
       "      <td>2</td>\n",
       "      <td>NV</td>\n",
       "      <td>89109</td>\n",
       "      <td>839</td>\n",
       "      <td>702</td>\n",
       "      <td>0</td>\n",
       "      <td>0</td>\n",
       "      <td>1</td>\n",
       "      <td>0</td>\n",
       "      <td>0</td>\n",
       "      <td>8</td>\n",
       "      <td>96</td>\n",
       "      <td>4</td>\n",
       "      <td>1081.00</td>\n",
       "      <td>0</td>\n",
       "      <td>0</td>\n",
       "      <td>1</td>\n",
       "      <td>1</td>\n",
       "      <td>300.0</td>\n",
       "      <td>300.00</td>\n",
       "      <td>88.00</td>\n",
       "      <td>1</td>\n",
       "      <td>0</td>\n",
       "      <td>0</td>\n",
       "      <td>0</td>\n",
       "      <td>1</td>\n",
       "      <td>1-Bronze</td>\n",
       "      <td>xxx</td>\n",
       "      <td>B111832829</td>\n",
       "      <td>03SEP06</td>\n",
       "      <td>NaN</td>\n",
       "      <td>0</td>\n",
       "    </tr>\n",
       "    <tr>\n",
       "      <td>3</td>\n",
       "      <td>OH</td>\n",
       "      <td>43050</td>\n",
       "      <td>535</td>\n",
       "      <td>614</td>\n",
       "      <td>0</td>\n",
       "      <td>1</td>\n",
       "      <td>1</td>\n",
       "      <td>0</td>\n",
       "      <td>0</td>\n",
       "      <td>1</td>\n",
       "      <td>108</td>\n",
       "      <td>106</td>\n",
       "      <td>2120.00</td>\n",
       "      <td>0</td>\n",
       "      <td>35</td>\n",
       "      <td>0</td>\n",
       "      <td>35</td>\n",
       "      <td>700.0</td>\n",
       "      <td>20.00</td>\n",
       "      <td>1.02</td>\n",
       "      <td>36</td>\n",
       "      <td>0</td>\n",
       "      <td>0</td>\n",
       "      <td>0</td>\n",
       "      <td>6</td>\n",
       "      <td>1-Bronze</td>\n",
       "      <td>xxx</td>\n",
       "      <td>B112883062</td>\n",
       "      <td>03SEP05</td>\n",
       "      <td>NaN</td>\n",
       "      <td>0</td>\n",
       "    </tr>\n",
       "    <tr>\n",
       "      <td>4</td>\n",
       "      <td>HI</td>\n",
       "      <td>96789</td>\n",
       "      <td>744</td>\n",
       "      <td>808</td>\n",
       "      <td>1</td>\n",
       "      <td>1</td>\n",
       "      <td>1</td>\n",
       "      <td>0</td>\n",
       "      <td>0</td>\n",
       "      <td>4</td>\n",
       "      <td>105</td>\n",
       "      <td>68</td>\n",
       "      <td>19960.00</td>\n",
       "      <td>0</td>\n",
       "      <td>0</td>\n",
       "      <td>19</td>\n",
       "      <td>19</td>\n",
       "      <td>8560.0</td>\n",
       "      <td>450.53</td>\n",
       "      <td>1.53</td>\n",
       "      <td>19</td>\n",
       "      <td>6</td>\n",
       "      <td>4</td>\n",
       "      <td>0</td>\n",
       "      <td>6</td>\n",
       "      <td>4-Platinum</td>\n",
       "      <td>3-Gold</td>\n",
       "      <td>B113581008</td>\n",
       "      <td>03DEC05</td>\n",
       "      <td>NaN</td>\n",
       "      <td>0</td>\n",
       "    </tr>\n",
       "  </tbody>\n",
       "</table>\n",
       "</div>"
      ],
      "text/plain": [
       "   ST    Zip  DMA  Area_Cd  emailable  solicit_ph_ind  solicit_email_ind  fixd_incm_flg  scheduled_purchase_flg  months_since_last_trans  months_since_first_trans  purch_cnt_life  purch_amt_life  purch_cnt_cc_36mo  purch_cnt_et_36mo  purch_cnt_ck_36mo  purch_cnt_tt_36mo  purch_amt_36mo  purch_avg_36mo  purch_avg_interval  mail_cnt_36mo  resp_cnt_36mo  call_in_mo_36mo  call_out_mo_36mo  order_cnt_36mo        tier tier_prev     acct_ID activation_date event_date  churn_year_plus1_ind\n",
       "0  VA  23464  544  missing          0               0                  1              0                       0                        2                       128              53        26029.85                  0                  0                 42                 42         14619.5          348.08                2.93              4              0                0                 0               1      3-Gold       xxx  B102465045         04JAN04    30JUN15                     1\n",
       "1  NC  27542  560      919          1               1                  1              0                       0                        4                       122              57        12384.00                  3                  0                 20                 23          3179.0          138.22                2.11             22              0                4                 0               8   5-Diamond    3-Gold  B106897643         04JUL04        NaN                     0\n",
       "2  NV  89109  839      702          0               0                  1              0                       0                        8                        96               4         1081.00                  0                  0                  1                  1           300.0          300.00               88.00              1              0                0                 0               1    1-Bronze       xxx  B111832829         03SEP06        NaN                     0\n",
       "3  OH  43050  535      614          0               1                  1              0                       0                        1                       108             106         2120.00                  0                 35                  0                 35           700.0           20.00                1.02             36              0                0                 0               6    1-Bronze       xxx  B112883062         03SEP05        NaN                     0\n",
       "4  HI  96789  744      808          1               1                  1              0                       0                        4                       105              68        19960.00                  0                  0                 19                 19          8560.0          450.53                1.53             19              6                4                 0               6  4-Platinum    3-Gold  B113581008         03DEC05        NaN                     0"
      ]
     },
     "execution_count": 165,
     "metadata": {},
     "output_type": "execute_result"
    }
   ],
   "source": [
    "## Use the head method to view churn dataframe:\n",
    "churn_df.head()"
   ]
  },
  {
   "cell_type": "code",
   "execution_count": 166,
   "metadata": {},
   "outputs": [
    {
     "data": {
      "text/plain": [
       "0    54151\n",
       "1    19330\n",
       "Name: churn_year_plus1_ind, dtype: int64"
      ]
     },
     "execution_count": 166,
     "metadata": {},
     "output_type": "execute_result"
    }
   ],
   "source": [
    "#Target counts\n",
    "churn_df.churn_year_plus1_ind.value_counts()"
   ]
  },
  {
   "cell_type": "markdown",
   "metadata": {},
   "source": [
    "#### Descriptive Statistics on the churn data"
   ]
  },
  {
   "cell_type": "code",
   "execution_count": 167,
   "metadata": {},
   "outputs": [
    {
     "name": "stdout",
     "output_type": "stream",
     "text": [
      "\u001b[1msummary stats on categorical varibales of churn data \n",
      "\n",
      "                 count unique         top   freq\n",
      "ST               73481     59          CA   6649\n",
      "Zip              73481  18361     missing    282\n",
      "DMA              73481    216         803   3013\n",
      "Area_Cd          73481    328     missing   3851\n",
      "tier             73481      5    1-Bronze  47066\n",
      "tier_prev        73481      6         xxx  49632\n",
      "acct_ID          73481  73384  I152642467      3\n",
      "activation_date  73481    200     06JUL00   5295\n",
      "event_date       19330     12     31JUL15   2156\n",
      "\u001b[1m\n",
      " summary stats on numerical varibales of churn data \n",
      "\n",
      "                      count     mean       std  min     25%     50%      75%       max\n",
      "purch_amt_life      73481.0  3242.32  11748.21  0.0  220.00  809.00  2660.62  1.07e+06\n",
      "purch_amt_36mo      73481.0  1128.67   4616.18  0.0  160.00  510.00  1060.00  5.80e+05\n",
      "purch_avg_36mo      73481.0    65.00    409.41 -1.0   20.00   25.19    46.67  5.05e+04\n",
      "purch_avg_interval  73481.0     2.16      4.88 -1.0    0.99    1.09     1.93  1.65e+02\n"
     ]
    }
   ],
   "source": [
    "## Use pandas describe method to see variable stats,\n",
    "##    and transpose to show variables as a list:\n",
    "print('\\033[1m'+ \"summary stats on categorical varibales of churn data \\n\") \n",
    "print(churn_df.describe(include='object').transpose())\n",
    "print('\\033[1m'+ \"\\n summary stats on numerical varibales of churn data \\n\") \n",
    "print(churn_df.describe(include='float64').transpose())"
   ]
  },
  {
   "cell_type": "markdown",
   "metadata": {},
   "source": [
    "####  Create bar chart to explore churn rates by tiers:"
   ]
  },
  {
   "cell_type": "code",
   "execution_count": 168,
   "metadata": {},
   "outputs": [
    {
     "data": {
      "image/png": "[encoded data removed]",
      "text/plain": [
       "<Figure size 432x288 with 1 Axes>"
      ]
     },
     "metadata": {
      "needs_background": "light"
     },
     "output_type": "display_data"
    },
    {
     "name": "stdout",
     "output_type": "stream",
     "text": [
      "As expected, the churn rate is high for the bottom tier( Bronze ) \n",
      "and low for the top tier( Diamond)\n"
     ]
    }
   ],
   "source": [
    "temp_df = churn_df.groupby(['tier'])['churn_year_plus1_ind'].mean().reset_index()\n",
    "sns.barplot(x='tier',y='churn_year_plus1_ind',data=temp_df)\n",
    "plt.title('Churn Rate by Tiers')\n",
    "plt.xlabel('Tier')\n",
    "plt.ylabel('Percentage of churn')\n",
    "plt.show()\n",
    "print('As expected, the churn rate is high for the bottom tier( Bronze ) \\nand low for the top tier( Diamond)')"
   ]
  },
  {
   "cell_type": "code",
   "execution_count": 185,
   "metadata": {},
   "outputs": [
    {
     "data": {
      "text/plain": [
       "Index(['ST', 'Zip', 'DMA', 'Area_Cd', 'tier', 'tier_prev', 'acct_ID', 'activation_date', 'event_date'], dtype='object')"
      ]
     },
     "execution_count": 185,
     "metadata": {},
     "output_type": "execute_result"
    }
   ],
   "source": [
    "churn_df.select_dtypes(include=['object','category']).columns"
   ]
  },
  {
   "cell_type": "code",
   "execution_count": 190,
   "metadata": {},
   "outputs": [
    {
     "data": {
      "image/png": "[encoded data removed]",
      "text/plain": [
       "<Figure size 1080x216 with 5 Axes>"
      ]
     },
     "metadata": {
      "needs_background": "light"
     },
     "output_type": "display_data"
    },
    {
     "name": "stdout",
     "output_type": "stream",
     "text": [
      "\u001b[1m\u001b[92mThere is association between tier and  churn_year_plus1_ind\n",
      "The strength of the assocation is 0.13\n",
      " \n",
      "\u001b[0m \n"
     ]
    },
    {
     "data": {
      "image/png": "[encoded data removed]",
      "text/plain": [
       "<Figure size 1296x216 with 6 Axes>"
      ]
     },
     "metadata": {
      "needs_background": "light"
     },
     "output_type": "display_data"
    },
    {
     "name": "stdout",
     "output_type": "stream",
     "text": [
      "\u001b[1m\u001b[92mThere is association between tier_prev and  churn_year_plus1_ind\n",
      "The strength of the assocation is 0.19\n",
      " \n",
      "\u001b[0m \n"
     ]
    },
    {
     "data": {
      "text/plain": [
       "('tier_prev', 0.19, 0.0)"
      ]
     },
     "execution_count": 190,
     "metadata": {},
     "output_type": "execute_result"
    }
   ],
   "source": [
    "categorical_association(churn_df,'tier','churn_year_plus1_ind')\n",
    "categorical_association(churn_df,'tier_prev','churn_year_plus1_ind')"
   ]
  },
  {
   "cell_type": "markdown",
   "metadata": {},
   "source": [
    "#### Checking skewness to explore distribution of numeric variables in churn data:"
   ]
  },
  {
   "cell_type": "code",
   "execution_count": 191,
   "metadata": {},
   "outputs": [
    {
     "name": "stdout",
     "output_type": "stream",
     "text": [
      "The skewness of the variables are \n",
      "\n",
      "purch_avg_36mo              58.57\n",
      "purch_amt_36mo              56.48\n",
      "purch_amt_life              28.19\n",
      "call_in_mo_36mo             18.27\n",
      "order_cnt_36mo              12.45\n",
      "purch_avg_interval          11.75\n",
      "purch_cnt_cc_36mo            5.93\n",
      "resp_cnt_36mo                5.10\n",
      "call_out_mo_36mo             3.44\n",
      "fixd_incm_flg                2.83\n",
      "purch_cnt_life               2.73\n",
      "purch_cnt_et_36mo            2.66\n",
      "purch_cnt_ck_36mo            2.34\n",
      "purch_cnt_tt_36mo            2.26\n",
      "months_since_last_trans      1.62\n",
      "mail_cnt_36mo                1.12\n",
      "churn_year_plus1_ind         1.08\n",
      "scheduled_purchase_flg       1.07\n",
      "months_since_first_trans     0.69\n",
      "emailable                   -0.07\n",
      "solicit_ph_ind              -2.52\n",
      "solicit_email_ind           -4.96\n",
      "dtype: float64\n"
     ]
    }
   ],
   "source": [
    "numeric_cols=churn_df.select_dtypes(include='float64')\n",
    "print('The skewness of the  variables before transformation are ')\n",
    "print('')\n",
    "skewness=churn_df.skew(axis = 0, skipna = True,numeric_only=True).sort_values(ascending=False) \n",
    "print(skewness)"
   ]
  },
  {
   "cell_type": "markdown",
   "metadata": {},
   "source": [
    "### Feature Engineering on the churn data"
   ]
  },
  {
   "cell_type": "code",
   "execution_count": 193,
   "metadata": {},
   "outputs": [],
   "source": [
    "#when avg interval = -1 replace with 36 months\n",
    "churn_df['purch_avg_interval'].replace([-1], 36, inplace=True)\n",
    "\n",
    "#when avg purchase = -1 replace with 0 \n",
    "churn_df['purch_avg_36mo'].replace([-1], 0, inplace=True)\n",
    "\n",
    "#Variable Transformations\n",
    "churn_df['log_order_cnt_36mo']=np.log10(churn_df['order_cnt_36mo']+1)\n",
    "churn_df['log_purch_amt_36mo']=np.log10(churn_df['purch_amt_36mo']+1)\n",
    "churn_df['log_purch_amt_life']=np.log10(churn_df['purch_amt_life']+1)\n",
    "churn_df['log_purch_avg_36mo']=np.log10(churn_df['purch_avg_36mo']+1)\n",
    "churn_df['log_purch_cnt_life']=np.log10(churn_df['purch_cnt_life']+1)\n",
    "churn_df['log_purch_cnt_tt_36mo']=np.log10(churn_df['purch_cnt_tt_36mo']+1)\n",
    "churn_df['log_resp_cnt_36mo']=np.log10(churn_df['resp_cnt_36mo']+1)\n",
    "\n",
    "\n",
    "#creating percentages column\n",
    "churn_df['perc_purch_cc_36mo']=np.where(churn_df['purch_cnt_tt_36mo']==0,0,churn_df['purch_cnt_cc_36mo']/churn_df['purch_cnt_tt_36mo'])\n",
    "churn_df['perc_purch_ck_36mo']=np.where(churn_df['purch_cnt_tt_36mo']==0,0,churn_df['purch_cnt_ck_36mo']/churn_df['purch_cnt_tt_36mo'])\n",
    "churn_df['perc_purch_et_36mo']=np.where(churn_df['purch_cnt_tt_36mo']==0,0,churn_df['purch_cnt_et_36mo']/churn_df['purch_cnt_tt_36mo'])\n",
    "\n",
    "#Dropping insignicant columns\n",
    "churn_df = churn_df.drop(['order_cnt_36mo','purch_amt_36mo','purch_amt_life','purch_avg_36mo','purch_cnt_life',\n",
    "                          'purch_cnt_tt_36mo','resp_cnt_36mo',\n",
    "                          'purch_cnt_cc_36mo','purch_cnt_ck_36mo','purch_cnt_et_36mo'],axis=1)\n"
   ]
  },
  {
   "cell_type": "code",
   "execution_count": 194,
   "metadata": {},
   "outputs": [
    {
     "name": "stdout",
     "output_type": "stream",
     "text": [
      " summary stats on churn data \n",
      "                         count  mean   std  min   25%   50%   75%     max\n",
      "purch_avg_interval     73481.0  4.85  9.96  0.0  1.00  1.21  2.56  165.00\n",
      "log_order_cnt_36mo     73481.0  0.74  0.29  0.0  0.60  0.70  0.90    2.68\n",
      "log_purch_amt_36mo     73481.0  2.60  0.65  0.0  2.21  2.71  3.03    5.76\n",
      "log_purch_amt_life     73481.0  2.86  0.79  0.0  2.34  2.91  3.43    6.03\n",
      "log_purch_avg_36mo     73481.0  1.54  0.35  0.0  1.32  1.42  1.68    4.70\n",
      "log_purch_cnt_life     73481.0  1.40  0.60  0.3  0.95  1.43  1.87    3.16\n",
      "log_purch_cnt_tt_36mo  73481.0  1.14  0.43  0.0  0.85  1.23  1.53    2.80\n",
      "log_resp_cnt_36mo      73481.0  0.33  0.45  0.0  0.00  0.00  0.60    2.37\n",
      "perc_purch_cc_36mo     73481.0  0.31  0.44  0.0  0.00  0.00  0.93    1.00\n",
      "perc_purch_ck_36mo     73481.0  0.56  0.47  0.0  0.00  0.92  1.00    2.00\n",
      "perc_purch_et_36mo     73481.0  0.13  0.32  0.0  0.00  0.00  0.00    1.00\n"
     ]
    }
   ],
   "source": [
    "print(\" summary stats on churn data \") \n",
    "print(churn_df.describe(include='float').transpose())"
   ]
  },
  {
   "cell_type": "code",
   "execution_count": 196,
   "metadata": {},
   "outputs": [
    {
     "name": "stdout",
     "output_type": "stream",
     "text": [
      "The skewness of the variables after the log transforation are \n",
      "\n",
      "call_in_mo_36mo             18.27\n",
      "call_out_mo_36mo             3.44\n",
      "purch_avg_interval           3.41\n",
      "fixd_incm_flg                2.83\n",
      "perc_purch_et_36mo           2.13\n",
      "months_since_last_trans      1.62\n",
      "log_purch_avg_36mo           1.56\n",
      "log_resp_cnt_36mo            1.14\n",
      "mail_cnt_36mo                1.12\n",
      "churn_year_plus1_ind         1.08\n",
      "scheduled_purchase_flg       1.07\n",
      "perc_purch_cc_36mo           0.82\n",
      "log_order_cnt_36mo           0.77\n",
      "months_since_first_trans     0.69\n",
      "emailable                   -0.07\n",
      "log_purch_amt_life          -0.13\n",
      "log_purch_cnt_life          -0.15\n",
      "perc_purch_ck_36mo          -0.22\n",
      "log_purch_amt_36mo          -0.29\n",
      "log_purch_cnt_tt_36mo       -0.60\n",
      "solicit_ph_ind              -2.52\n",
      "solicit_email_ind           -4.96\n",
      "dtype: float64\n"
     ]
    }
   ],
   "source": [
    "numeric_cols=churn_df.select_dtypes(include='float64')\n",
    "print('The skewness of the variables after the log transforation are ')\n",
    "print('')\n",
    "skewness=churn_df.skew(axis = 0, skipna = True,numeric_only=True).sort_values(ascending=False) \n",
    "print(skewness)"
   ]
  },
  {
   "cell_type": "markdown",
   "metadata": {},
   "source": [
    "## Margin data\n",
    "\n",
    "            1. Importing the dataframe\n",
    "            2. Modify margin data to only have ANNUAL margin numbers\n",
    "            3. Looking at descriptive statistics of numeric and categorical attributes\n",
    "            4. Checking for the skewness in the numerical variables\n",
    "            5. Variables tranformations if the data is skewed\n",
    "            6. Checking the skewness in the transformed variables\n",
    "            7. Dropping the unnecessary columns"
   ]
  },
  {
   "cell_type": "code",
   "execution_count": 170,
   "metadata": {},
   "outputs": [
    {
     "data": {
      "text/html": [
       "<div>\n",
       "<style scoped>\n",
       "    .dataframe tbody tr th:only-of-type {\n",
       "        vertical-align: middle;\n",
       "    }\n",
       "\n",
       "    .dataframe tbody tr th {\n",
       "        vertical-align: top;\n",
       "    }\n",
       "\n",
       "    .dataframe thead th {\n",
       "        text-align: right;\n",
       "    }\n",
       "</style>\n",
       "<table border=\"1\" class=\"dataframe\">\n",
       "  <thead>\n",
       "    <tr style=\"text-align: right;\">\n",
       "      <th></th>\n",
       "      <th>trans_amt_t_minus_00</th>\n",
       "      <th>trans_amt_t_minus_01</th>\n",
       "      <th>trans_amt_t_minus_02</th>\n",
       "      <th>trans_amt_t_minus_03</th>\n",
       "      <th>trans_amt_t_minus_04</th>\n",
       "      <th>trans_amt_t_minus_05</th>\n",
       "      <th>trans_amt_t_minus_06</th>\n",
       "      <th>trans_amt_t_minus_07</th>\n",
       "      <th>trans_amt_t_minus_08</th>\n",
       "      <th>trans_amt_t_minus_09</th>\n",
       "      <th>trans_amt_t_minus_10</th>\n",
       "      <th>trans_amt_t_minus_11</th>\n",
       "      <th>trans_amt_t_minus_12</th>\n",
       "      <th>trans_amt_t_minus_13</th>\n",
       "      <th>trans_amt_t_minus_14</th>\n",
       "      <th>trans_amt_t_minus_15</th>\n",
       "      <th>trans_amt_t_minus_16</th>\n",
       "      <th>trans_amt_t_minus_17</th>\n",
       "      <th>trans_amt_t_minus_18</th>\n",
       "      <th>trans_amt_t_minus_19</th>\n",
       "      <th>trans_amt_t_minus_20</th>\n",
       "      <th>trans_amt_t_minus_21</th>\n",
       "      <th>trans_amt_t_minus_22</th>\n",
       "      <th>trans_amt_t_minus_23</th>\n",
       "      <th>trans_amt_t_minus_24</th>\n",
       "      <th>...</th>\n",
       "      <th>cost_amt_t_minus_11</th>\n",
       "      <th>cost_amt_t_minus_10</th>\n",
       "      <th>cost_amt_t_minus_09</th>\n",
       "      <th>cost_amt_t_minus_08</th>\n",
       "      <th>cost_amt_t_minus_07</th>\n",
       "      <th>cost_amt_t_minus_06</th>\n",
       "      <th>cost_amt_t_minus_05</th>\n",
       "      <th>cost_amt_t_minus_04</th>\n",
       "      <th>cost_amt_t_minus_03</th>\n",
       "      <th>cost_amt_t_minus_02</th>\n",
       "      <th>cost_amt_t_minus_01</th>\n",
       "      <th>cost_amt_t_minus_00</th>\n",
       "      <th>cost_amt_t_plus_01</th>\n",
       "      <th>cost_amt_t_plus_02</th>\n",
       "      <th>cost_amt_t_plus_03</th>\n",
       "      <th>cost_amt_t_plus_04</th>\n",
       "      <th>cost_amt_t_plus_05</th>\n",
       "      <th>cost_amt_t_plus_06</th>\n",
       "      <th>cost_amt_t_plus_07</th>\n",
       "      <th>cost_amt_t_plus_08</th>\n",
       "      <th>cost_amt_t_plus_09</th>\n",
       "      <th>cost_amt_t_plus_10</th>\n",
       "      <th>cost_amt_t_plus_11</th>\n",
       "      <th>cost_amt_t_plus_12</th>\n",
       "      <th>acct_ID</th>\n",
       "    </tr>\n",
       "  </thead>\n",
       "  <tbody>\n",
       "    <tr>\n",
       "      <td>0</td>\n",
       "      <td>0.0</td>\n",
       "      <td>1961.0</td>\n",
       "      <td>6110.5</td>\n",
       "      <td>0.0</td>\n",
       "      <td>0.0</td>\n",
       "      <td>0.0</td>\n",
       "      <td>0.0</td>\n",
       "      <td>0.0</td>\n",
       "      <td>0.0</td>\n",
       "      <td>0.0</td>\n",
       "      <td>3882.0</td>\n",
       "      <td>0.0</td>\n",
       "      <td>0.0</td>\n",
       "      <td>0.0</td>\n",
       "      <td>0.0</td>\n",
       "      <td>0.0</td>\n",
       "      <td>0.0</td>\n",
       "      <td>0.0</td>\n",
       "      <td>0.0</td>\n",
       "      <td>0.0</td>\n",
       "      <td>0.0</td>\n",
       "      <td>0.0</td>\n",
       "      <td>0.0</td>\n",
       "      <td>0.0</td>\n",
       "      <td>0.0</td>\n",
       "      <td>...</td>\n",
       "      <td>0.00</td>\n",
       "      <td>600.25</td>\n",
       "      <td>584.71</td>\n",
       "      <td>584.71</td>\n",
       "      <td>584.71</td>\n",
       "      <td>584.71</td>\n",
       "      <td>584.71</td>\n",
       "      <td>584.71</td>\n",
       "      <td>584.71</td>\n",
       "      <td>606.11</td>\n",
       "      <td>592.50</td>\n",
       "      <td>584.71</td>\n",
       "      <td>0.00</td>\n",
       "      <td>0.00</td>\n",
       "      <td>0.00</td>\n",
       "      <td>0.00</td>\n",
       "      <td>0.00</td>\n",
       "      <td>0.30</td>\n",
       "      <td>0.00</td>\n",
       "      <td>0.00</td>\n",
       "      <td>0.00</td>\n",
       "      <td>0.30</td>\n",
       "      <td>0.00</td>\n",
       "      <td>0.00</td>\n",
       "      <td>B102465045</td>\n",
       "    </tr>\n",
       "    <tr>\n",
       "      <td>1</td>\n",
       "      <td>0.0</td>\n",
       "      <td>0.0</td>\n",
       "      <td>0.0</td>\n",
       "      <td>40.0</td>\n",
       "      <td>0.0</td>\n",
       "      <td>400.0</td>\n",
       "      <td>200.0</td>\n",
       "      <td>150.0</td>\n",
       "      <td>0.0</td>\n",
       "      <td>0.0</td>\n",
       "      <td>0.0</td>\n",
       "      <td>0.0</td>\n",
       "      <td>0.0</td>\n",
       "      <td>0.0</td>\n",
       "      <td>0.0</td>\n",
       "      <td>0.0</td>\n",
       "      <td>0.0</td>\n",
       "      <td>0.0</td>\n",
       "      <td>0.0</td>\n",
       "      <td>0.0</td>\n",
       "      <td>0.0</td>\n",
       "      <td>0.0</td>\n",
       "      <td>75.0</td>\n",
       "      <td>949.0</td>\n",
       "      <td>135.0</td>\n",
       "      <td>...</td>\n",
       "      <td>598.94</td>\n",
       "      <td>598.68</td>\n",
       "      <td>598.68</td>\n",
       "      <td>598.68</td>\n",
       "      <td>599.88</td>\n",
       "      <td>599.58</td>\n",
       "      <td>599.28</td>\n",
       "      <td>598.98</td>\n",
       "      <td>600.05</td>\n",
       "      <td>601.37</td>\n",
       "      <td>601.37</td>\n",
       "      <td>598.98</td>\n",
       "      <td>14.49</td>\n",
       "      <td>14.27</td>\n",
       "      <td>14.76</td>\n",
       "      <td>13.97</td>\n",
       "      <td>15.69</td>\n",
       "      <td>14.87</td>\n",
       "      <td>14.79</td>\n",
       "      <td>14.57</td>\n",
       "      <td>14.27</td>\n",
       "      <td>14.27</td>\n",
       "      <td>14.76</td>\n",
       "      <td>14.53</td>\n",
       "      <td>B106897643</td>\n",
       "    </tr>\n",
       "    <tr>\n",
       "      <td>2</td>\n",
       "      <td>0.0</td>\n",
       "      <td>0.0</td>\n",
       "      <td>0.0</td>\n",
       "      <td>0.0</td>\n",
       "      <td>0.0</td>\n",
       "      <td>0.0</td>\n",
       "      <td>0.0</td>\n",
       "      <td>300.0</td>\n",
       "      <td>0.0</td>\n",
       "      <td>0.0</td>\n",
       "      <td>0.0</td>\n",
       "      <td>0.0</td>\n",
       "      <td>0.0</td>\n",
       "      <td>0.0</td>\n",
       "      <td>0.0</td>\n",
       "      <td>0.0</td>\n",
       "      <td>0.0</td>\n",
       "      <td>0.0</td>\n",
       "      <td>0.0</td>\n",
       "      <td>0.0</td>\n",
       "      <td>0.0</td>\n",
       "      <td>0.0</td>\n",
       "      <td>0.0</td>\n",
       "      <td>0.0</td>\n",
       "      <td>0.0</td>\n",
       "      <td>...</td>\n",
       "      <td>0.00</td>\n",
       "      <td>0.00</td>\n",
       "      <td>0.00</td>\n",
       "      <td>0.00</td>\n",
       "      <td>8.65</td>\n",
       "      <td>0.00</td>\n",
       "      <td>0.00</td>\n",
       "      <td>0.00</td>\n",
       "      <td>0.00</td>\n",
       "      <td>0.00</td>\n",
       "      <td>0.00</td>\n",
       "      <td>0.00</td>\n",
       "      <td>0.00</td>\n",
       "      <td>0.00</td>\n",
       "      <td>0.00</td>\n",
       "      <td>0.00</td>\n",
       "      <td>0.00</td>\n",
       "      <td>0.00</td>\n",
       "      <td>3.91</td>\n",
       "      <td>2.87</td>\n",
       "      <td>0.00</td>\n",
       "      <td>0.00</td>\n",
       "      <td>0.00</td>\n",
       "      <td>0.00</td>\n",
       "      <td>B111832829</td>\n",
       "    </tr>\n",
       "    <tr>\n",
       "      <td>3</td>\n",
       "      <td>20.0</td>\n",
       "      <td>20.0</td>\n",
       "      <td>20.0</td>\n",
       "      <td>20.0</td>\n",
       "      <td>20.0</td>\n",
       "      <td>20.0</td>\n",
       "      <td>20.0</td>\n",
       "      <td>20.0</td>\n",
       "      <td>20.0</td>\n",
       "      <td>20.0</td>\n",
       "      <td>0.0</td>\n",
       "      <td>20.0</td>\n",
       "      <td>20.0</td>\n",
       "      <td>20.0</td>\n",
       "      <td>20.0</td>\n",
       "      <td>20.0</td>\n",
       "      <td>20.0</td>\n",
       "      <td>20.0</td>\n",
       "      <td>20.0</td>\n",
       "      <td>20.0</td>\n",
       "      <td>20.0</td>\n",
       "      <td>20.0</td>\n",
       "      <td>20.0</td>\n",
       "      <td>20.0</td>\n",
       "      <td>20.0</td>\n",
       "      <td>...</td>\n",
       "      <td>2.10</td>\n",
       "      <td>1.50</td>\n",
       "      <td>3.29</td>\n",
       "      <td>1.58</td>\n",
       "      <td>1.83</td>\n",
       "      <td>1.47</td>\n",
       "      <td>4.45</td>\n",
       "      <td>1.40</td>\n",
       "      <td>1.54</td>\n",
       "      <td>3.95</td>\n",
       "      <td>1.16</td>\n",
       "      <td>1.78</td>\n",
       "      <td>4.46</td>\n",
       "      <td>2.10</td>\n",
       "      <td>5.17</td>\n",
       "      <td>1.29</td>\n",
       "      <td>0.26</td>\n",
       "      <td>0.00</td>\n",
       "      <td>0.00</td>\n",
       "      <td>0.00</td>\n",
       "      <td>0.00</td>\n",
       "      <td>0.30</td>\n",
       "      <td>0.00</td>\n",
       "      <td>0.30</td>\n",
       "      <td>B112883062</td>\n",
       "    </tr>\n",
       "    <tr>\n",
       "      <td>4</td>\n",
       "      <td>0.0</td>\n",
       "      <td>0.0</td>\n",
       "      <td>0.0</td>\n",
       "      <td>600.0</td>\n",
       "      <td>0.0</td>\n",
       "      <td>0.0</td>\n",
       "      <td>0.0</td>\n",
       "      <td>700.0</td>\n",
       "      <td>300.0</td>\n",
       "      <td>300.0</td>\n",
       "      <td>300.0</td>\n",
       "      <td>300.0</td>\n",
       "      <td>300.0</td>\n",
       "      <td>300.0</td>\n",
       "      <td>2160.0</td>\n",
       "      <td>0.0</td>\n",
       "      <td>0.0</td>\n",
       "      <td>0.0</td>\n",
       "      <td>0.0</td>\n",
       "      <td>0.0</td>\n",
       "      <td>600.0</td>\n",
       "      <td>300.0</td>\n",
       "      <td>0.0</td>\n",
       "      <td>300.0</td>\n",
       "      <td>600.0</td>\n",
       "      <td>...</td>\n",
       "      <td>605.41</td>\n",
       "      <td>604.44</td>\n",
       "      <td>599.99</td>\n",
       "      <td>600.91</td>\n",
       "      <td>604.18</td>\n",
       "      <td>599.21</td>\n",
       "      <td>598.68</td>\n",
       "      <td>599.20</td>\n",
       "      <td>600.05</td>\n",
       "      <td>601.63</td>\n",
       "      <td>598.94</td>\n",
       "      <td>598.98</td>\n",
       "      <td>15.09</td>\n",
       "      <td>14.87</td>\n",
       "      <td>15.06</td>\n",
       "      <td>15.04</td>\n",
       "      <td>15.09</td>\n",
       "      <td>15.94</td>\n",
       "      <td>18.68</td>\n",
       "      <td>15.94</td>\n",
       "      <td>15.30</td>\n",
       "      <td>17.72</td>\n",
       "      <td>15.06</td>\n",
       "      <td>15.90</td>\n",
       "      <td>B113581008</td>\n",
       "    </tr>\n",
       "  </tbody>\n",
       "</table>\n",
       "<p>5 rows × 97 columns</p>\n",
       "</div>"
      ],
      "text/plain": [
       "   trans_amt_t_minus_00  trans_amt_t_minus_01  trans_amt_t_minus_02  trans_amt_t_minus_03  trans_amt_t_minus_04  trans_amt_t_minus_05  trans_amt_t_minus_06  trans_amt_t_minus_07  trans_amt_t_minus_08  trans_amt_t_minus_09  trans_amt_t_minus_10  trans_amt_t_minus_11  trans_amt_t_minus_12  trans_amt_t_minus_13  trans_amt_t_minus_14  trans_amt_t_minus_15  trans_amt_t_minus_16  trans_amt_t_minus_17  trans_amt_t_minus_18  trans_amt_t_minus_19  trans_amt_t_minus_20  trans_amt_t_minus_21  trans_amt_t_minus_22  trans_amt_t_minus_23  trans_amt_t_minus_24  ...  cost_amt_t_minus_11  cost_amt_t_minus_10  cost_amt_t_minus_09  cost_amt_t_minus_08  cost_amt_t_minus_07  cost_amt_t_minus_06  cost_amt_t_minus_05  cost_amt_t_minus_04  cost_amt_t_minus_03  cost_amt_t_minus_02  cost_amt_t_minus_01  cost_amt_t_minus_00  cost_amt_t_plus_01  cost_amt_t_plus_02  cost_amt_t_plus_03  cost_amt_t_plus_04  cost_amt_t_plus_05  cost_amt_t_plus_06  cost_amt_t_plus_07  cost_amt_t_plus_08  cost_amt_t_plus_09  \\\n",
       "0                   0.0                1961.0                6110.5                   0.0                   0.0                   0.0                   0.0                   0.0                   0.0                   0.0                3882.0                   0.0                   0.0                   0.0                   0.0                   0.0                   0.0                   0.0                   0.0                   0.0                   0.0                   0.0                   0.0                   0.0                   0.0  ...                 0.00               600.25               584.71               584.71               584.71               584.71               584.71               584.71               584.71               606.11               592.50               584.71                0.00                0.00                0.00                0.00                0.00                0.30                0.00                0.00                0.00   \n",
       "1                   0.0                   0.0                   0.0                  40.0                   0.0                 400.0                 200.0                 150.0                   0.0                   0.0                   0.0                   0.0                   0.0                   0.0                   0.0                   0.0                   0.0                   0.0                   0.0                   0.0                   0.0                   0.0                  75.0                 949.0                 135.0  ...               598.94               598.68               598.68               598.68               599.88               599.58               599.28               598.98               600.05               601.37               601.37               598.98               14.49               14.27               14.76               13.97               15.69               14.87               14.79               14.57               14.27   \n",
       "2                   0.0                   0.0                   0.0                   0.0                   0.0                   0.0                   0.0                 300.0                   0.0                   0.0                   0.0                   0.0                   0.0                   0.0                   0.0                   0.0                   0.0                   0.0                   0.0                   0.0                   0.0                   0.0                   0.0                   0.0                   0.0  ...                 0.00                 0.00                 0.00                 0.00                 8.65                 0.00                 0.00                 0.00                 0.00                 0.00                 0.00                 0.00                0.00                0.00                0.00                0.00                0.00                0.00                3.91                2.87                0.00   \n",
       "3                  20.0                  20.0                  20.0                  20.0                  20.0                  20.0                  20.0                  20.0                  20.0                  20.0                   0.0                  20.0                  20.0                  20.0                  20.0                  20.0                  20.0                  20.0                  20.0                  20.0                  20.0                  20.0                  20.0                  20.0                  20.0  ...                 2.10                 1.50                 3.29                 1.58                 1.83                 1.47                 4.45                 1.40                 1.54                 3.95                 1.16                 1.78                4.46                2.10                5.17                1.29                0.26                0.00                0.00                0.00                0.00   \n",
       "4                   0.0                   0.0                   0.0                 600.0                   0.0                   0.0                   0.0                 700.0                 300.0                 300.0                 300.0                 300.0                 300.0                 300.0                2160.0                   0.0                   0.0                   0.0                   0.0                   0.0                 600.0                 300.0                   0.0                 300.0                 600.0  ...               605.41               604.44               599.99               600.91               604.18               599.21               598.68               599.20               600.05               601.63               598.94               598.98               15.09               14.87               15.06               15.04               15.09               15.94               18.68               15.94               15.30   \n",
       "\n",
       "   cost_amt_t_plus_10  cost_amt_t_plus_11  cost_amt_t_plus_12     acct_ID  \n",
       "0                0.30                0.00                0.00  B102465045  \n",
       "1               14.27               14.76               14.53  B106897643  \n",
       "2                0.00                0.00                0.00  B111832829  \n",
       "3                0.30                0.00                0.30  B112883062  \n",
       "4               17.72               15.06               15.90  B113581008  \n",
       "\n",
       "[5 rows x 97 columns]"
      ]
     },
     "execution_count": 170,
     "metadata": {},
     "output_type": "execute_result"
    }
   ],
   "source": [
    "margin_df=pd.read_csv(\"margin_data.csv\")\n",
    "## Use head method to view margin dataframe:\n",
    "margin_df.head()"
   ]
  },
  {
   "cell_type": "markdown",
   "metadata": {},
   "source": [
    "### Modify margin data to only have ANNUAL margin numbers\n",
    "            \n",
    "            1. Margin in the past 12 months\n",
    "            2. Margin in the past 13-24 months\n",
    "            3. Margin in the past 25-36 months\n",
    "            4. Margin in the coming 12 months\n",
    "            \n",
    "            Subsetting only the above 4 margins \n"
   ]
  },
  {
   "cell_type": "markdown",
   "metadata": {},
   "source": [
    "#### 1. Margin in the past 12 months"
   ]
  },
  {
   "cell_type": "code",
   "execution_count": 171,
   "metadata": {},
   "outputs": [],
   "source": [
    "#calculating revenue from the customers in the first 12months\n",
    "margin_df['rev_Y_neg_1']=margin_df['trans_amt_t_minus_00']+margin_df['trans_amt_t_minus_01']+margin_df['trans_amt_t_minus_02']+margin_df['trans_amt_t_minus_03']+margin_df['trans_amt_t_minus_04']+margin_df['trans_amt_t_minus_05']+margin_df['trans_amt_t_minus_06']+margin_df['trans_amt_t_minus_07']+margin_df['trans_amt_t_minus_08']+margin_df['trans_amt_t_minus_09']+margin_df['trans_amt_t_minus_10']+margin_df['trans_amt_t_minus_11']\n",
    "#calculating cost spent from the customers in the first 12months\n",
    "margin_df['cost_Y_neg_1']=margin_df['cost_amt_t_minus_00']+margin_df['cost_amt_t_minus_01']+margin_df['cost_amt_t_minus_02']+margin_df['cost_amt_t_minus_03']+margin_df['cost_amt_t_minus_04']+margin_df['cost_amt_t_minus_05']+margin_df['cost_amt_t_minus_06']+margin_df['cost_amt_t_minus_07']+margin_df['cost_amt_t_minus_08']+margin_df['cost_amt_t_minus_09']+margin_df['cost_amt_t_minus_10']+margin_df['cost_amt_t_minus_11']\n",
    "#Margin is the difference between the Revenue and the cost\n",
    "margin_df['margin_Y_neg_1']=margin_df['rev_Y_neg_1']-margin_df['cost_Y_neg_1']"
   ]
  },
  {
   "cell_type": "markdown",
   "metadata": {},
   "source": [
    "#### 2. Margin in the past 13-24 months"
   ]
  },
  {
   "cell_type": "code",
   "execution_count": 172,
   "metadata": {},
   "outputs": [],
   "source": [
    "#calculating revenue from the customers in the between 13-24 months\n",
    "margin_df['rev_Y_neg_2']=margin_df['trans_amt_t_minus_12']+margin_df['trans_amt_t_minus_13']+margin_df['trans_amt_t_minus_14']+margin_df['trans_amt_t_minus_15']+margin_df['trans_amt_t_minus_16']+margin_df['trans_amt_t_minus_17']+margin_df['trans_amt_t_minus_18']+margin_df['trans_amt_t_minus_19']+margin_df['trans_amt_t_minus_20']+margin_df['trans_amt_t_minus_21']+margin_df['trans_amt_t_minus_22']+margin_df['trans_amt_t_minus_23']\n",
    "#calculating cost spent from the customers in between 13-24 months\n",
    "margin_df['cost_Y_neg_2']=margin_df['cost_amt_t_minus_12']+margin_df['cost_amt_t_minus_13']+margin_df['cost_amt_t_minus_14']+margin_df['cost_amt_t_minus_15']+margin_df['cost_amt_t_minus_16']+margin_df['cost_amt_t_minus_17']+margin_df['cost_amt_t_minus_18']+margin_df['cost_amt_t_minus_19']+margin_df['cost_amt_t_minus_20']+margin_df['cost_amt_t_minus_21']+margin_df['cost_amt_t_minus_22']+margin_df['cost_amt_t_minus_23']\n",
    "#Margin is the difference between the Revenue and the cost\n",
    "margin_df['margin_Y_neg_2']=margin_df['rev_Y_neg_2']-margin_df['cost_Y_neg_2']"
   ]
  },
  {
   "cell_type": "markdown",
   "metadata": {},
   "source": [
    "#### 3. Margin in the past 25-36 months"
   ]
  },
  {
   "cell_type": "code",
   "execution_count": 173,
   "metadata": {},
   "outputs": [],
   "source": [
    "#calculating revenue from the customers in the between 13-24 months\n",
    "margin_df['rev_Y_neg_3']=margin_df['trans_amt_t_minus_24']+margin_df['trans_amt_t_minus_25']+margin_df['trans_amt_t_minus_26']+margin_df['trans_amt_t_minus_27']+margin_df['trans_amt_t_minus_28']+margin_df['trans_amt_t_minus_29']+margin_df['trans_amt_t_minus_30']+margin_df['trans_amt_t_minus_31']+margin_df['trans_amt_t_minus_32']+margin_df['trans_amt_t_minus_33']+margin_df['trans_amt_t_minus_34']+margin_df['trans_amt_t_minus_35']\n",
    "#calculating cost spent from the customers in between 13-24 months\n",
    "margin_df['cost_Y_neg_3']=margin_df['cost_amt_t_minus_24']+margin_df['cost_amt_t_minus_25']+margin_df['cost_amt_t_minus_26']+margin_df['cost_amt_t_minus_27']+margin_df['cost_amt_t_minus_28']+margin_df['cost_amt_t_minus_29']+margin_df['cost_amt_t_minus_30']+margin_df['cost_amt_t_minus_31']+margin_df['cost_amt_t_minus_32']+margin_df['cost_amt_t_minus_33']+margin_df['cost_amt_t_minus_34']+margin_df['cost_amt_t_minus_35']\n",
    "#Margin is the difference between the Revenue and the cost\n",
    "margin_df['margin_Y_neg_3']=margin_df['rev_Y_neg_3']-margin_df['cost_Y_neg_3']"
   ]
  },
  {
   "cell_type": "markdown",
   "metadata": {},
   "source": [
    "#### 4. Margin in the coming 12 months"
   ]
  },
  {
   "cell_type": "code",
   "execution_count": 174,
   "metadata": {},
   "outputs": [],
   "source": [
    "#calculating revenue from the customers in the coming 12 months\n",
    "margin_df['rev_Y_pos_1']=margin_df['trans_amt_t_plus_01']+margin_df['trans_amt_t_plus_02']+margin_df['trans_amt_t_plus_03']+margin_df['trans_amt_t_plus_04']+margin_df['trans_amt_t_plus_05']+margin_df['trans_amt_t_plus_06']+margin_df['trans_amt_t_plus_07']+margin_df['trans_amt_t_plus_08']+margin_df['trans_amt_t_plus_09']+margin_df['trans_amt_t_plus_10']+margin_df['trans_amt_t_plus_11']+margin_df['trans_amt_t_plus_12']\n",
    "#calculating cost spent from the customers in the coming 12 months\n",
    "margin_df['cost_Y_pos_1']=margin_df['cost_amt_t_plus_01']+margin_df['cost_amt_t_plus_02']+margin_df['cost_amt_t_plus_03']+margin_df['cost_amt_t_plus_04']+margin_df['cost_amt_t_plus_05']+margin_df['cost_amt_t_plus_06']+margin_df['cost_amt_t_plus_07']+margin_df['cost_amt_t_plus_08']+margin_df['cost_amt_t_plus_09']+margin_df['cost_amt_t_plus_10']+margin_df['cost_amt_t_plus_11']+margin_df['cost_amt_t_plus_12']\n",
    "#Margin is the difference between the Revenue and the cost\n",
    "margin_df['margin_Y_pos_1']=margin_df['rev_Y_pos_1']-margin_df['cost_Y_pos_1']\n"
   ]
  },
  {
   "cell_type": "markdown",
   "metadata": {},
   "source": [
    "#### Subsetting only the annual margin from the customers"
   ]
  },
  {
   "cell_type": "code",
   "execution_count": 177,
   "metadata": {},
   "outputs": [
    {
     "name": "stdout",
     "output_type": "stream",
     "text": [
      "\u001b[1m summary stats on margin data \n",
      "                  count    mean      std       min    25%     50%     75%        max\n",
      "margin_Y_neg_1  73481.0  229.17  1590.26 -18624.22  43.12  182.31  338.27  197543.65\n",
      "margin_Y_neg_2  73481.0  194.08  1696.54  -7675.16   0.00  122.92  294.78  203656.57\n",
      "margin_Y_neg_3  73481.0  158.68  1392.78  -6902.63   0.00   26.17  243.63  194459.00\n",
      "margin_Y_pos_1  73481.0  357.21  1720.88  -2679.10  -2.21  162.27  332.86  199704.96\n"
     ]
    }
   ],
   "source": [
    "margin_df = margin_df[['acct_ID','margin_Y_neg_1','margin_Y_neg_2','margin_Y_neg_3','margin_Y_pos_1']]\n",
    "\n",
    "print('\\033[1m'+ \" summary stats on margin data \") \n",
    "print(margin_df[['margin_Y_neg_1', 'margin_Y_neg_2', 'margin_Y_neg_3', 'margin_Y_pos_1']].describe(include='all').transpose())"
   ]
  },
  {
   "cell_type": "markdown",
   "metadata": {},
   "source": [
    "#### Checking skewness to explore distribution of numeric variables in churn data:"
   ]
  },
  {
   "cell_type": "code",
   "execution_count": 178,
   "metadata": {},
   "outputs": [
    {
     "name": "stdout",
     "output_type": "stream",
     "text": [
      "The skewness of the variables are \n",
      "\n",
      "margin_Y_neg_3    72.95\n",
      "margin_Y_neg_2    63.62\n",
      "margin_Y_neg_1    60.26\n",
      "margin_Y_pos_1    60.16\n",
      "dtype: float64\n"
     ]
    }
   ],
   "source": [
    "numeric_cols=margin_df.select_dtypes(include='float64')\n",
    "print('The skewness of the variables are ')\n",
    "print('')\n",
    "skewness=margin_df.skew(axis = 0, skipna = True,numeric_only=True).sort_values(ascending=False) \n",
    "print(skewness)"
   ]
  },
  {
   "cell_type": "markdown",
   "metadata": {},
   "source": [
    "#### Feature engineering on margin data\n",
    "        \n",
    "        Using logs with an offset that will account for very large negative margins:"
   ]
  },
  {
   "cell_type": "code",
   "execution_count": 200,
   "metadata": {},
   "outputs": [],
   "source": [
    "#calculating average margin across the 3 years\n",
    "margin_df['margin_3yr_avg']=(margin_df['margin_Y_neg_1']+margin_df['margin_Y_neg_2']+margin_df['margin_Y_neg_3'])/3\n",
    "\n",
    "#Adding offset value to convert negative margins to positive value for log transformatioms\n",
    "margin_df['log_margin_Y_neg_1']=np.log10(margin_df['margin_Y_neg_1']+50000)\n",
    "margin_df['log_margin_Y_neg_2']=np.log10(margin_df['margin_Y_neg_2']+50000)\n",
    "margin_df['log_margin_Y_neg_3']=np.log10(margin_df['margin_Y_neg_3']+50000)\n",
    "margin_df['log_margin_3yr_avg']=np.log10(margin_df['margin_3yr_avg']+50000)\n",
    "margin_df['log_margin_Y_pos_1']=np.log10(margin_df['margin_Y_pos_1']+50000)"
   ]
  },
  {
   "cell_type": "markdown",
   "metadata": {},
   "source": [
    "#### Checking skewness to explore distribution of numeric variables in churn data:"
   ]
  },
  {
   "cell_type": "code",
   "execution_count": 201,
   "metadata": {},
   "outputs": [
    {
     "name": "stdout",
     "output_type": "stream",
     "text": [
      "The skewness of the variables are \n",
      "\n",
      "margin_Y_neg_3        72.95\n",
      "margin_Y_neg_2        63.62\n",
      "margin_3yr_avg        61.49\n",
      "margin_Y_neg_1        60.26\n",
      "margin_Y_pos_1        60.16\n",
      "log_margin_Y_pos_1    26.91\n",
      "log_margin_3yr_avg    24.07\n",
      "log_margin_Y_neg_3    22.07\n",
      "log_margin_Y_neg_2    21.72\n",
      "log_margin_Y_neg_1    18.01\n",
      "dtype: float64\n"
     ]
    }
   ],
   "source": [
    "numeric_cols=margin_df.select_dtypes(include='float64')\n",
    "print('The skewness of the variables are ')\n",
    "print('')\n",
    "skewness=margin_df.skew(axis = 0, skipna = True,numeric_only=True).sort_values(ascending=False) \n",
    "print(skewness)"
   ]
  },
  {
   "cell_type": "markdown",
   "metadata": {},
   "source": [
    "### Visualizing whether the prior margin has an impact on the future margin\n",
    "        \n",
    "        Scatter plot on Future Margin vs Prior Margin (logarithms):"
   ]
  },
  {
   "cell_type": "code",
   "execution_count": 202,
   "metadata": {},
   "outputs": [
    {
     "data": {
      "image/png": "[encoded data removed]",
      "text/plain": [
       "<Figure size 432x288 with 1 Axes>"
      ]
     },
     "metadata": {
      "needs_background": "light"
     },
     "output_type": "display_data"
    }
   ],
   "source": [
    "plt.scatter(margin_df['log_margin_3yr_avg'], margin_df['log_margin_Y_pos_1'])\n",
    "plt.xlabel(\"3-Year Average Margin (log)\")\n",
    "plt.ylabel(\"Future Year Margin (log)\")\n",
    "plt.title(\"Scatter Plot on Margin Data\")\n",
    "plt.show()"
   ]
  },
  {
   "cell_type": "markdown",
   "metadata": {},
   "source": [
    "## Merging the churn data with the margin data"
   ]
  },
  {
   "cell_type": "code",
   "execution_count": 69,
   "metadata": {},
   "outputs": [
    {
     "data": {
      "text/plain": [
       "(73384, 31)"
      ]
     },
     "execution_count": 69,
     "metadata": {},
     "output_type": "execute_result"
    }
   ],
   "source": [
    "churn_df.drop_duplicates(subset=['acct_ID'], keep='first', inplace=True)\n",
    "churn_df.shape"
   ]
  },
  {
   "cell_type": "code",
   "execution_count": 70,
   "metadata": {},
   "outputs": [
    {
     "data": {
      "text/plain": [
       "(73384, 11)"
      ]
     },
     "execution_count": 70,
     "metadata": {},
     "output_type": "execute_result"
    }
   ],
   "source": [
    "margin_df.drop_duplicates(subset=['acct_ID'], keep='first', inplace=True)\n",
    "margin_df.shape"
   ]
  },
  {
   "cell_type": "markdown",
   "metadata": {},
   "source": [
    "## Join Churn and Margin data by acct_ID:"
   ]
  },
  {
   "cell_type": "code",
   "execution_count": 71,
   "metadata": {},
   "outputs": [
    {
     "data": {
      "text/plain": [
       "(73384, 41)"
      ]
     },
     "execution_count": 71,
     "metadata": {},
     "output_type": "execute_result"
    }
   ],
   "source": [
    "combined_df = pd.merge(churn_df, margin_df, on='acct_ID', how='inner')\n",
    "combined_df.shape"
   ]
  },
  {
   "cell_type": "markdown",
   "metadata": {},
   "source": [
    "## Create dummy variables for certain categorical variables."
   ]
  },
  {
   "cell_type": "code",
   "execution_count": 7,
   "metadata": {},
   "outputs": [
    {
     "ename": "NameError",
     "evalue": "name 'combined_df' is not defined",
     "output_type": "error",
     "traceback": [
      "\u001b[1;31m---------------------------------------------------------------------------\u001b[0m",
      "\u001b[1;31mNameError\u001b[0m                                 Traceback (most recent call last)",
      "\u001b[1;32m<ipython-input-7-3183f6487bac>\u001b[0m in \u001b[0;36m<module>\u001b[1;34m\u001b[0m\n\u001b[0;32m      9\u001b[0m \u001b[1;33m\u001b[0m\u001b[0m\n\u001b[0;32m     10\u001b[0m \u001b[1;32mfor\u001b[0m \u001b[0mcolumn\u001b[0m \u001b[1;32min\u001b[0m \u001b[1;33m[\u001b[0m\u001b[1;34m'ST'\u001b[0m\u001b[1;33m,\u001b[0m \u001b[1;34m'tier'\u001b[0m\u001b[1;33m,\u001b[0m \u001b[1;34m'tier_prev'\u001b[0m\u001b[1;33m]\u001b[0m\u001b[1;33m:\u001b[0m\u001b[1;33m\u001b[0m\u001b[1;33m\u001b[0m\u001b[0m\n\u001b[1;32m---> 11\u001b[1;33m     \u001b[0mdummies\u001b[0m \u001b[1;33m=\u001b[0m \u001b[0mpd\u001b[0m\u001b[1;33m.\u001b[0m\u001b[0mget_dummies\u001b[0m\u001b[1;33m(\u001b[0m\u001b[0mcombined_df\u001b[0m\u001b[1;33m[\u001b[0m\u001b[0mcolumn\u001b[0m\u001b[1;33m]\u001b[0m\u001b[1;33m,\u001b[0m\u001b[0mprefix\u001b[0m\u001b[1;33m=\u001b[0m\u001b[0mcolumn\u001b[0m\u001b[1;33m)\u001b[0m\u001b[1;33m\u001b[0m\u001b[1;33m\u001b[0m\u001b[0m\n\u001b[0m\u001b[0;32m     12\u001b[0m     \u001b[0mcombined_df\u001b[0m\u001b[1;33m[\u001b[0m\u001b[0mdummies\u001b[0m\u001b[1;33m.\u001b[0m\u001b[0mcolumns\u001b[0m\u001b[1;33m]\u001b[0m \u001b[1;33m=\u001b[0m \u001b[0mdummies\u001b[0m\u001b[1;33m\u001b[0m\u001b[1;33m\u001b[0m\u001b[0m\n\u001b[0;32m     13\u001b[0m \u001b[1;33m\u001b[0m\u001b[0m\n",
      "\u001b[1;31mNameError\u001b[0m: name 'combined_df' is not defined"
     ]
    }
   ],
   "source": [
    "\"\"\" WARNING: this commented-out approach would create dummy indicators for all \"\"\"\n",
    "\"\"\"    categorical variables, including those with very high cardinality, such as zip codes \"\"\"\n",
    "\"\"\"    and also would drop the original categorical variables and only keep the dummy indicators \"\"\"\n",
    "\n",
    "\"\"\" combined_df = pd.get_dummies(combined_df) \"\"\"\n",
    "\n",
    "\"\"\" this approach hand-picks only certain variables for which to create dummy indicators \"\"\"\n",
    "\"\"\" and keeps the original variables too \"\"\"\n",
    "\n",
    "for column in ['ST', 'tier', 'tier_prev']:\n",
    "    dummies = pd.get_dummies(combined_df[column],prefix=column)\n",
    "    combined_df[dummies.columns] = dummies\n",
    "\n",
    "print(\" \") \n",
    "print(\"New dataset with dummies\") \n",
    "print(\" \") \n",
    "print(combined_df.head(10)) \n",
    "print(\" \") \n",
    "print(\"Columns in new data\")\n",
    "print(\" \") \n",
    "print(combined_df.dtypes)"
   ]
  },
  {
   "cell_type": "markdown",
   "metadata": {},
   "source": [
    "## export updated data as new csv file"
   ]
  },
  {
   "cell_type": "code",
   "execution_count": 82,
   "metadata": {},
   "outputs": [],
   "source": [
    "combined_df.to_csv('combined_data.csv',index=False)"
   ]
  }
 ],
 "metadata": {
  "kernelspec": {
   "display_name": "Python 3",
   "language": "python",
   "name": "python3"
  },
  "language_info": {
   "codemirror_mode": {
    "name": "ipython",
    "version": 3
   },
   "file_extension": ".py",
   "mimetype": "text/x-python",
   "name": "python",
   "nbconvert_exporter": "python",
   "pygments_lexer": "ipython3",
   "version": "3.7.4"
  }
 },
 "nbformat": 4,
 "nbformat_minor": 2
}
